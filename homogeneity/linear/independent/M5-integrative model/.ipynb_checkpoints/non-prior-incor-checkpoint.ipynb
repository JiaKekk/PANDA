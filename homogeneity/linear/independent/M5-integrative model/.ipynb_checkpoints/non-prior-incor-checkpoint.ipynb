{
 "cells": [
  {
   "cell_type": "code",
   "execution_count": 75,
   "id": "35cb0002",
   "metadata": {},
   "outputs": [],
   "source": [
    "import torch\n",
    "torch.set_default_tensor_type(torch.FloatTensor)\n",
    "from torch.autograd import Variable\n",
    "from torch.nn import functional as F\n",
    "from torchmetrics import Accuracy, Recall, Precision, Specificity, ConfusionMatrix\n",
    "from sklearn.model_selection import train_test_split\n",
    "from sklearn.model_selection import KFold\n",
    "from sklearn.metrics import confusion_matrix\n",
    "\n",
    "from sklearn.metrics import precision_recall_curve, average_precision_score,roc_curve, auc, precision_score, recall_score, f1_score, confusion_matrix, accuracy_score\n",
    "\n",
    "import numpy as np\n",
    "from IPython.core.interactiveshell import InteractiveShell\n",
    "InteractiveShell.ast_node_interactivity = \"all\"\n",
    "\n",
    "import matplotlib.pyplot as plt\n",
    "from collections import Counter\n",
    "import random\n",
    "import math\n",
    "import torch.optim as optim\n",
    "from tabulate import tabulate\n",
    "from ray import tune\n",
    "\n",
    "from fractions import Fraction"
   ]
  },
  {
   "cell_type": "code",
   "execution_count": 76,
   "id": "57cd9b11",
   "metadata": {},
   "outputs": [],
   "source": [
    "# Create Tensors to hold input and outputs.\n",
    "beta_1=np.append(np.array([4,4,-8,-4,6,8,-4,4,-6,4]),np.zeros(90))\n",
    "beta_2=np.append(np.array([-2,2,4,-2,3,-4,2,-2,-3,2]),np.zeros(90))\n",
    "beta_3=np.append(np.array([-3,-3,6,-3,-4.5,-6,3,-3,4.5,3]),np.zeros(90))\n",
    "\n",
    "beta_1=beta_1.reshape(-1,1)\n",
    "beta_2=beta_2.reshape(-1,1)\n",
    "beta_3=beta_3.reshape(-1,1)\n",
    "\n",
    "n1=200\n",
    "n2=200\n",
    "n3=200\n",
    "p=100\n",
    "corval=0\n",
    "prior=0\n",
    "\n",
    "def sigmoid(X):\n",
    "    return .5 * (1 + np.tanh(.5 * X))\n",
    "\n",
    "def generate_data(corval,beta,n,p):\n",
    "    mean=np.zeros(p)\n",
    "    sigma=np.array([[corval**abs(i-j) for i in range(p)] for j in range(p)])\n",
    "    x=torch.tensor(np.random.multivariate_normal(mean=mean,cov=sigma,size=n))\n",
    "    Pi_test= sigmoid(x@beta)\n",
    "    y=np.random.binomial(1,Pi_test.ravel(),n)\n",
    "    x=x.to(torch.float32)\n",
    "    #y=torch.tensor(y,dtype=torch.double)\n",
    "    y=torch.tensor(y,dtype=torch.float)\n",
    "    #y=y.to(torch.float32)\n",
    "    return x,y\n"
   ]
  },
  {
   "cell_type": "code",
   "execution_count": 77,
   "id": "cdf8807a",
   "metadata": {},
   "outputs": [],
   "source": [
    "def setup_seed(seed):\n",
    "    torch.manual_seed(seed)\n",
    "    torch.cuda.manual_seed_all(seed)\n",
    "    np.random.seed(seed)\n",
    "    random.seed(seed)\n",
    "    torch.backends.cudnn.deterministic = True\n",
    "# 设置随机数种子\n",
    "setup_seed(1)\n",
    "\n",
    "# generation of training and test data\n",
    "x1,y1=generate_data(corval,beta_1,n1,p)\n",
    "x2,y2=generate_data(corval,beta_2,n2,p)\n",
    "x3,y3=generate_data(corval,beta_3,n3,p)\n",
    "\n",
    "train_x1, test_x1, train_y1, test_y1= train_test_split(x1,y1, test_size=0.2, random_state=1)\n",
    "train_x2, test_x2, train_y2, test_y2= train_test_split(x2,y2, test_size=0.2, random_state=1)\n",
    "train_x3, test_x3, train_y3, test_y3= train_test_split(x3,y3, test_size=0.2, random_state=1)\n",
    "\n",
    "#test_x1,test_y1=generaet_data(corval,beta_1,n_test,p)\n",
    "#test_x2,test_y2=generaet_data(corval,beta_2,n_test,p)\n",
    "#test_x3,test_y3=generaet_data(corval,beta_3,n_test,p)\n"
   ]
  },
  {
   "cell_type": "code",
   "execution_count": 78,
   "id": "4a8dbf68",
   "metadata": {},
   "outputs": [
    {
     "data": {
      "text/plain": [
       "tensor([[ 1.1562e+00, -6.7676e-01, -2.9011e-02,  ..., -1.0559e+00,\n",
       "         -1.4391e+00, -6.0677e-01],\n",
       "        [-3.5220e-01,  1.6572e-01,  1.4609e+00,  ..., -1.6776e+00,\n",
       "         -1.3760e-03,  7.8600e-01],\n",
       "        [ 9.6538e-01, -3.3180e-01,  1.0211e+00,  ..., -1.2069e-01,\n",
       "         -1.0751e+00, -3.9528e-01],\n",
       "        ...,\n",
       "        [-1.0532e+00,  2.7305e-01,  3.2043e-01,  ...,  2.4501e+00,\n",
       "         -4.6602e-02, -4.2758e-01],\n",
       "        [ 2.1007e-01, -4.2998e-02,  1.1864e+00,  ...,  6.7503e-01,\n",
       "         -8.6875e-01,  4.5822e-01],\n",
       "        [ 6.1372e-01, -8.2253e-02, -1.4422e-01,  ...,  6.7524e-01,\n",
       "          2.2452e-02, -8.7104e-01]])"
      ]
     },
     "execution_count": 78,
     "metadata": {},
     "output_type": "execute_result"
    }
   ],
   "source": [
    "train_x1"
   ]
  },
  {
   "cell_type": "code",
   "execution_count": 79,
   "id": "ac62b75e",
   "metadata": {},
   "outputs": [
    {
     "data": {
      "text/plain": [
       "<matplotlib.collections.PathCollection at 0x7f2e0b638f70>"
      ]
     },
     "execution_count": 79,
     "metadata": {},
     "output_type": "execute_result"
    },
    {
     "data": {
      "text/plain": [
       "tensor(0.2283, dtype=torch.float64)"
      ]
     },
     "execution_count": 79,
     "metadata": {},
     "output_type": "execute_result"
    },
    {
     "data": {
      "text/plain": [
       "tensor(0.2145, dtype=torch.float64)"
      ]
     },
     "execution_count": 79,
     "metadata": {},
     "output_type": "execute_result"
    },
    {
     "data": {
      "text/plain": [
       "tensor(0.2181, dtype=torch.float64)"
      ]
     },
     "execution_count": 79,
     "metadata": {},
     "output_type": "execute_result"
    },
    {
     "data": {
      "image/png": "[encoded data removed]",
      "text/plain": [
       "<Figure size 640x480 with 1 Axes>"
      ]
     },
     "metadata": {},
     "output_type": "display_data"
    }
   ],
   "source": [
    "plt.scatter(sigmoid(x3@beta_3).squeeze(),sigmoid(x1@beta_1).squeeze())\n",
    "sigmoid(x1@beta_1).squeeze().cov()\n",
    "sigmoid(x2@beta_2).squeeze().cov()\n",
    "sigmoid(x3@beta_3).squeeze().cov()"
   ]
  },
  {
   "cell_type": "code",
   "execution_count": 80,
   "id": "606b4828",
   "metadata": {},
   "outputs": [],
   "source": [
    "    # switch training set\n",
    "    inputs_1,targets_1 = train_x1,train_y1\n",
    "    inputs_2,targets_2 = train_x2,train_y2\n",
    "    inputs_3,targets_3 = train_x3,train_y3\n",
    "\n",
    "    # switching testing set\n",
    "    test_inputs_1, test_targets_1 = test_x1,test_y1\n",
    "    test_inputs_2, test_targets_2 = test_x2,test_y2\n",
    "    test_inputs_3, test_targets_3 = test_x3,test_y3"
   ]
  },
  {
   "cell_type": "code",
   "execution_count": 82,
   "id": "da509cee",
   "metadata": {},
   "outputs": [
    {
     "data": {
      "text/html": [
       "== Status ==<br>Current time: 2022-10-12 19:29:46 (running for 00:00:07.31)<br>Memory usage on this node: 20.1/1133.4 GiB<br>Using FIFO scheduling algorithm.<br>Resources requested: 30.0/32 CPUs, 0/1 GPUs, 0.0/933.14 GiB heap, 0.0/186.26 GiB objects (0.0/1.0 accelerator_type:V100)<br>Result logdir: /home/rd/ray_results/train_model_2022-10-12_19-29-39<br>Number of trials: 30/30 (30 RUNNING)<br><table>\n",
       "<thead>\n",
       "<tr><th>Trial name             </th><th>status  </th><th>loc             </th><th style=\"text-align: right;\">  lambda1</th><th style=\"text-align: right;\">  lambda2</th></tr>\n",
       "</thead>\n",
       "<tbody>\n",
       "<tr><td>train_model_286d7_00000</td><td>RUNNING </td><td>10.224.0.12:2104</td><td style=\"text-align: right;\">     0.03</td><td style=\"text-align: right;\">    0.002</td></tr>\n",
       "<tr><td>train_model_286d7_00001</td><td>RUNNING </td><td>10.224.0.12:2297</td><td style=\"text-align: right;\">     0.01</td><td style=\"text-align: right;\">    0.001</td></tr>\n",
       "<tr><td>train_model_286d7_00002</td><td>RUNNING </td><td>10.224.0.12:2300</td><td style=\"text-align: right;\">     0.01</td><td style=\"text-align: right;\">    0.003</td></tr>\n",
       "<tr><td>train_model_286d7_00003</td><td>RUNNING </td><td>10.224.0.12:2301</td><td style=\"text-align: right;\">     0.01</td><td style=\"text-align: right;\">    0.001</td></tr>\n",
       "<tr><td>train_model_286d7_00004</td><td>RUNNING </td><td>10.224.0.12:2304</td><td style=\"text-align: right;\">     0.04</td><td style=\"text-align: right;\">    0.001</td></tr>\n",
       "<tr><td>train_model_286d7_00005</td><td>RUNNING </td><td>10.224.0.12:2305</td><td style=\"text-align: right;\">     0.01</td><td style=\"text-align: right;\">    0.003</td></tr>\n",
       "<tr><td>train_model_286d7_00006</td><td>RUNNING </td><td>10.224.0.12:2307</td><td style=\"text-align: right;\">     0.02</td><td style=\"text-align: right;\">    0.003</td></tr>\n",
       "<tr><td>train_model_286d7_00007</td><td>RUNNING </td><td>10.224.0.12:2310</td><td style=\"text-align: right;\">     0.02</td><td style=\"text-align: right;\">    0.001</td></tr>\n",
       "<tr><td>train_model_286d7_00008</td><td>RUNNING </td><td>10.224.0.12:2312</td><td style=\"text-align: right;\">     0.04</td><td style=\"text-align: right;\">    0.002</td></tr>\n",
       "<tr><td>train_model_286d7_00009</td><td>RUNNING </td><td>10.224.0.12:2313</td><td style=\"text-align: right;\">     0.03</td><td style=\"text-align: right;\">    0.001</td></tr>\n",
       "<tr><td>train_model_286d7_00010</td><td>RUNNING </td><td>10.224.0.12:2315</td><td style=\"text-align: right;\">     0.05</td><td style=\"text-align: right;\">    0.002</td></tr>\n",
       "<tr><td>train_model_286d7_00011</td><td>RUNNING </td><td>10.224.0.12:2318</td><td style=\"text-align: right;\">     0.01</td><td style=\"text-align: right;\">    0.002</td></tr>\n",
       "<tr><td>train_model_286d7_00012</td><td>RUNNING </td><td>10.224.0.12:2319</td><td style=\"text-align: right;\">     0.04</td><td style=\"text-align: right;\">    0.001</td></tr>\n",
       "<tr><td>train_model_286d7_00013</td><td>RUNNING </td><td>10.224.0.12:2321</td><td style=\"text-align: right;\">     0.02</td><td style=\"text-align: right;\">    0.003</td></tr>\n",
       "<tr><td>train_model_286d7_00014</td><td>RUNNING </td><td>10.224.0.12:2323</td><td style=\"text-align: right;\">     0.04</td><td style=\"text-align: right;\">    0.001</td></tr>\n",
       "<tr><td>train_model_286d7_00015</td><td>RUNNING </td><td>10.224.0.12:2325</td><td style=\"text-align: right;\">     0.02</td><td style=\"text-align: right;\">    0.003</td></tr>\n",
       "<tr><td>train_model_286d7_00016</td><td>RUNNING </td><td>10.224.0.12:2327</td><td style=\"text-align: right;\">     0.05</td><td style=\"text-align: right;\">    0.003</td></tr>\n",
       "<tr><td>train_model_286d7_00017</td><td>RUNNING </td><td>10.224.0.12:2329</td><td style=\"text-align: right;\">     0.01</td><td style=\"text-align: right;\">    0.001</td></tr>\n",
       "<tr><td>train_model_286d7_00018</td><td>RUNNING </td><td>10.224.0.12:2331</td><td style=\"text-align: right;\">     0.04</td><td style=\"text-align: right;\">    0.003</td></tr>\n",
       "<tr><td>train_model_286d7_00019</td><td>RUNNING </td><td>10.224.0.12:2332</td><td style=\"text-align: right;\">     0.01</td><td style=\"text-align: right;\">    0.003</td></tr>\n",
       "<tr><td>train_model_286d7_00020</td><td>RUNNING </td><td>10.224.0.12:2334</td><td style=\"text-align: right;\">     0.04</td><td style=\"text-align: right;\">    0.003</td></tr>\n",
       "<tr><td>train_model_286d7_00021</td><td>RUNNING </td><td>10.224.0.12:2336</td><td style=\"text-align: right;\">     0.04</td><td style=\"text-align: right;\">    0.001</td></tr>\n",
       "<tr><td>train_model_286d7_00022</td><td>RUNNING </td><td>10.224.0.12:2339</td><td style=\"text-align: right;\">     0.01</td><td style=\"text-align: right;\">    0.001</td></tr>\n",
       "<tr><td>train_model_286d7_00023</td><td>RUNNING </td><td>10.224.0.12:2341</td><td style=\"text-align: right;\">     0.01</td><td style=\"text-align: right;\">    0.003</td></tr>\n",
       "<tr><td>train_model_286d7_00024</td><td>RUNNING </td><td>10.224.0.12:2342</td><td style=\"text-align: right;\">     0.02</td><td style=\"text-align: right;\">    0.002</td></tr>\n",
       "<tr><td>train_model_286d7_00025</td><td>RUNNING </td><td>10.224.0.12:2344</td><td style=\"text-align: right;\">     0.04</td><td style=\"text-align: right;\">    0.002</td></tr>\n",
       "<tr><td>train_model_286d7_00026</td><td>RUNNING </td><td>10.224.0.12:2346</td><td style=\"text-align: right;\">     0.01</td><td style=\"text-align: right;\">    0.003</td></tr>\n",
       "<tr><td>train_model_286d7_00027</td><td>RUNNING </td><td>10.224.0.12:2348</td><td style=\"text-align: right;\">     0.04</td><td style=\"text-align: right;\">    0.002</td></tr>\n",
       "<tr><td>train_model_286d7_00028</td><td>RUNNING </td><td>10.224.0.12:2351</td><td style=\"text-align: right;\">     0.03</td><td style=\"text-align: right;\">    0.002</td></tr>\n",
       "<tr><td>train_model_286d7_00029</td><td>RUNNING </td><td>10.224.0.12:2352</td><td style=\"text-align: right;\">     0.04</td><td style=\"text-align: right;\">    0.001</td></tr>\n",
       "</tbody>\n",
       "</table><br><br>"
      ],
      "text/plain": [
       "<IPython.core.display.HTML object>"
      ]
     },
     "metadata": {},
     "output_type": "display_data"
    },
    {
     "name": "stderr",
     "output_type": "stream",
     "text": [
      "2022-10-12 19:29:45,385\tWARNING tune.py:686 -- Stop signal received (e.g. via SIGINT/Ctrl+C), ending Ray Tune run. This will try to checkpoint the experiment state one last time. Press CTRL+C (or send SIGINT/SIGKILL/SIGTERM) to skip. \n",
      "2022-10-12 19:30:30,181\tERROR tune.py:754 -- Trials did not complete: [train_model_286d7_00000, train_model_286d7_00001, train_model_286d7_00002, train_model_286d7_00003, train_model_286d7_00004, train_model_286d7_00005, train_model_286d7_00006, train_model_286d7_00007, train_model_286d7_00008, train_model_286d7_00009, train_model_286d7_00010, train_model_286d7_00011, train_model_286d7_00012, train_model_286d7_00013, train_model_286d7_00014, train_model_286d7_00015, train_model_286d7_00016, train_model_286d7_00017, train_model_286d7_00018, train_model_286d7_00019, train_model_286d7_00020, train_model_286d7_00021, train_model_286d7_00022, train_model_286d7_00023, train_model_286d7_00024, train_model_286d7_00025, train_model_286d7_00026, train_model_286d7_00027, train_model_286d7_00028, train_model_286d7_00029]\n",
      "2022-10-12 19:30:30,183\tINFO tune.py:758 -- Total run time: 51.10 seconds (7.29 seconds for the tuning loop).\n",
      "2022-10-12 19:30:30,184\tWARNING tune.py:764 -- Experiment has been interrupted, but the most recent state was saved. You can continue running this experiment by passing `resume=True` to `tune.run()`\n"
     ]
    },
    {
     "name": "stdout",
     "output_type": "stream",
     "text": [
      "======================== Result =========================\n",
      "                                experiment_id                 date  \\\n",
      "trial_id                                                             \n",
      "286d7_00000  33e91525b55c49f3b52d31fd94afab6c  2022-10-12_19-29-41   \n",
      "286d7_00001  e37053faf20e4838b0a568f6114f1a60  2022-10-12_19-29-44   \n",
      "286d7_00002  ebf7b69d998b421fbf8657ee79cc2cd0  2022-10-12_19-29-44   \n",
      "286d7_00003  2797e3b1382d4348904f110e76271d28  2022-10-12_19-29-44   \n",
      "286d7_00004  e86ea9c6d0d54d90b4b84d6fca509d2e  2022-10-12_19-29-44   \n",
      "286d7_00005  df8b7fcb1a514972aeab88223caa3f97  2022-10-12_19-29-44   \n",
      "286d7_00006  d5b51e1fb90b405eb19ca27c63d6cf60  2022-10-12_19-29-44   \n",
      "286d7_00007  e17fdb02d48f453ba80adcd59146e3c0  2022-10-12_19-29-44   \n",
      "286d7_00008  a9c78eb9d5d34db9989bc8e96d71d1c9  2022-10-12_19-29-44   \n",
      "286d7_00009  708b1ca6ea664ed1977882c5eaa657b5  2022-10-12_19-29-44   \n",
      "286d7_00010  a6d45f410e9d4bf7a069fa29393df487  2022-10-12_19-29-44   \n",
      "286d7_00011  49aee45a7ef143628d3a686b3cb30bf1  2022-10-12_19-29-44   \n",
      "286d7_00012  c83d9cbe6c3f45c09ff04465c75b4b83  2022-10-12_19-29-44   \n",
      "286d7_00013  7af724c246b345f4b3c4b3e897d9c2d5  2022-10-12_19-29-44   \n",
      "286d7_00014  65a47b6d96ca4a5da188abdfa5acb5fb  2022-10-12_19-29-44   \n",
      "286d7_00015  98e7663a04df40febafebb127075d749  2022-10-12_19-29-44   \n",
      "286d7_00016  45729e8adee04b7d88039a8c782b7c7d  2022-10-12_19-29-44   \n",
      "286d7_00017  0ded2e9b47b843fa8aac65f37c34e2cf  2022-10-12_19-29-44   \n",
      "286d7_00018  b278f8b2cfef4b53a746a10eea7d7f31  2022-10-12_19-29-44   \n",
      "286d7_00019  888f806e4bdf46008f8f95afd5a36ae5  2022-10-12_19-29-44   \n",
      "286d7_00020  311f758e9b9748f7afe28594a7379e18  2022-10-12_19-29-44   \n",
      "286d7_00021  504e996e0c8a40c984552bbb751b928c  2022-10-12_19-29-44   \n",
      "286d7_00022  843b74b699584e6d83e0ba3dce3afb38  2022-10-12_19-29-44   \n",
      "286d7_00023  15e9ab95094e4863b51c5c41a91dba63  2022-10-12_19-29-44   \n",
      "286d7_00024  bbddde632625425fa49baa779791b8cb  2022-10-12_19-29-44   \n",
      "286d7_00025  f6123a8f764747f29e539493ba6d1fdc  2022-10-12_19-29-44   \n",
      "286d7_00026  6635fedb523b43d9abc1479b3c39b8c1  2022-10-12_19-29-44   \n",
      "286d7_00027  63dc3564152c47e299a28d1d5721ccd8  2022-10-12_19-29-44   \n",
      "286d7_00028  80448bdf789449ed807e785aaae8ebfa  2022-10-12_19-29-44   \n",
      "286d7_00029  df0d8ebda1984666a82c53b5e92db47e  2022-10-12_19-29-44   \n",
      "\n",
      "              timestamp   pid             hostname      node_ip  \\\n",
      "trial_id                                                          \n",
      "286d7_00000  1665574181  2104  rd-PowerEdge-R940xa  10.224.0.12   \n",
      "286d7_00001  1665574184  2297  rd-PowerEdge-R940xa  10.224.0.12   \n",
      "286d7_00002  1665574184  2300  rd-PowerEdge-R940xa  10.224.0.12   \n",
      "286d7_00003  1665574184  2301  rd-PowerEdge-R940xa  10.224.0.12   \n",
      "286d7_00004  1665574184  2304  rd-PowerEdge-R940xa  10.224.0.12   \n",
      "286d7_00005  1665574184  2305  rd-PowerEdge-R940xa  10.224.0.12   \n",
      "286d7_00006  1665574184  2307  rd-PowerEdge-R940xa  10.224.0.12   \n",
      "286d7_00007  1665574184  2310  rd-PowerEdge-R940xa  10.224.0.12   \n",
      "286d7_00008  1665574184  2312  rd-PowerEdge-R940xa  10.224.0.12   \n",
      "286d7_00009  1665574184  2313  rd-PowerEdge-R940xa  10.224.0.12   \n",
      "286d7_00010  1665574184  2315  rd-PowerEdge-R940xa  10.224.0.12   \n",
      "286d7_00011  1665574184  2318  rd-PowerEdge-R940xa  10.224.0.12   \n",
      "286d7_00012  1665574184  2319  rd-PowerEdge-R940xa  10.224.0.12   \n",
      "286d7_00013  1665574184  2321  rd-PowerEdge-R940xa  10.224.0.12   \n",
      "286d7_00014  1665574184  2323  rd-PowerEdge-R940xa  10.224.0.12   \n",
      "286d7_00015  1665574184  2325  rd-PowerEdge-R940xa  10.224.0.12   \n",
      "286d7_00016  1665574184  2327  rd-PowerEdge-R940xa  10.224.0.12   \n",
      "286d7_00017  1665574184  2329  rd-PowerEdge-R940xa  10.224.0.12   \n",
      "286d7_00018  1665574184  2331  rd-PowerEdge-R940xa  10.224.0.12   \n",
      "286d7_00019  1665574184  2332  rd-PowerEdge-R940xa  10.224.0.12   \n",
      "286d7_00020  1665574184  2334  rd-PowerEdge-R940xa  10.224.0.12   \n",
      "286d7_00021  1665574184  2336  rd-PowerEdge-R940xa  10.224.0.12   \n",
      "286d7_00022  1665574184  2339  rd-PowerEdge-R940xa  10.224.0.12   \n",
      "286d7_00023  1665574184  2341  rd-PowerEdge-R940xa  10.224.0.12   \n",
      "286d7_00024  1665574184  2342  rd-PowerEdge-R940xa  10.224.0.12   \n",
      "286d7_00025  1665574184  2344  rd-PowerEdge-R940xa  10.224.0.12   \n",
      "286d7_00026  1665574184  2346  rd-PowerEdge-R940xa  10.224.0.12   \n",
      "286d7_00027  1665574184  2348  rd-PowerEdge-R940xa  10.224.0.12   \n",
      "286d7_00028  1665574184  2351  rd-PowerEdge-R940xa  10.224.0.12   \n",
      "286d7_00029  1665574184  2352  rd-PowerEdge-R940xa  10.224.0.12   \n",
      "\n",
      "             config/lambda1  config/lambda2  \n",
      "trial_id                                     \n",
      "286d7_00000            0.03           0.002  \n",
      "286d7_00001            0.01           0.001  \n",
      "286d7_00002            0.01           0.003  \n",
      "286d7_00003            0.01           0.001  \n",
      "286d7_00004            0.04           0.001  \n",
      "286d7_00005            0.01           0.003  \n",
      "286d7_00006            0.02           0.003  \n",
      "286d7_00007            0.02           0.001  \n",
      "286d7_00008            0.04           0.002  \n",
      "286d7_00009            0.03           0.001  \n",
      "286d7_00010            0.05           0.002  \n",
      "286d7_00011            0.01           0.002  \n",
      "286d7_00012            0.04           0.001  \n",
      "286d7_00013            0.02           0.003  \n",
      "286d7_00014            0.04           0.001  \n",
      "286d7_00015            0.02           0.003  \n",
      "286d7_00016            0.05           0.003  \n",
      "286d7_00017            0.01           0.001  \n",
      "286d7_00018            0.04           0.003  \n",
      "286d7_00019            0.01           0.003  \n",
      "286d7_00020            0.04           0.003  \n",
      "286d7_00021            0.04           0.001  \n",
      "286d7_00022            0.01           0.001  \n",
      "286d7_00023            0.01           0.003  \n",
      "286d7_00024            0.02           0.002  \n",
      "286d7_00025            0.04           0.002  \n",
      "286d7_00026            0.01           0.003  \n",
      "286d7_00027            0.04           0.002  \n",
      "286d7_00028            0.03           0.002  \n",
      "286d7_00029            0.04           0.001  \n"
     ]
    }
   ],
   "source": [
    "################## first step##################\n",
    "\n",
    "#0.6,0.3\n",
    "# choose lambda1,lambda2 by ray tune\n",
    "class MLP(torch.nn.Module):\n",
    "    def __init__(self,seed):\n",
    "        super(MLP, self).__init__()\n",
    "        torch.manual_seed(seed)\n",
    "        self.linear1 = torch.nn.Parameter(torch.randn(p))\n",
    "        self.linear2 = torch.nn.Linear(p,10)\n",
    "        self.linear3 = torch.nn.Linear(10,10)\n",
    "        self.linear4 = torch.nn.Linear(10,1)\n",
    "\n",
    "    def forward(self, x):\n",
    "        layer1_out = self.linear1*x\n",
    "        layer2_out = F.relu(self.linear2(layer1_out))\n",
    "        layer3_out = F.relu(self.linear3(layer2_out))\n",
    "        out= torch.sigmoid(self.linear4(layer3_out))\n",
    "        return out, layer1_out, layer2_out,layer3_out\n",
    "    \n",
    "def train_model(config):\n",
    "    split_num=10\n",
    "    kf = KFold(n_splits=split_num)\n",
    "\n",
    "\n",
    "\n",
    "    sum_test_BCE_loss=0\n",
    "    for idx_train,idx_test in kf.split(inputs_1):\n",
    "        lambda1,lambda2 = config[\"lambda1\"], config[\"lambda2\"]\n",
    "        model_1=MLP(seed=1)\n",
    "        model_2=MLP(seed=1)\n",
    "        model_3=MLP(seed=1)\n",
    "        max_iteration=1000\n",
    "        learning_rate=0.8\n",
    "        params_to_optimize=list(model_1.parameters())+list(model_2.parameters())+list(model_3.parameters())\n",
    "        optimizer = torch.optim.SGD(params_to_optimize, lr=learning_rate)\n",
    "        loss_fn = torch.nn.BCELoss()\n",
    "        scheduler = torch.optim.lr_scheduler.MultiStepLR(optimizer, milestones=[100,200,300,400,500,600,700,800], gamma=0.3)\n",
    "\n",
    "        BCE=[]\n",
    "\n",
    "        for t in range(max_iteration):\n",
    "            optimizer.zero_grad() # renew optimizer\n",
    "            out_1, layer1_out_1, layer2_out_1,layer3_out_1= model_1(inputs_1[idx_train])\n",
    "            out_2, layer1_out_2, layer2_out_2,layer3_out_2= model_2(inputs_2[idx_train])\n",
    "            out_3, layer1_out_3, layer2_out_3,layer3_out_3= model_3(inputs_3[idx_train])# forward propagate\n",
    "\n",
    "            # extract parameters\n",
    "            #[:-1] for leaving out bias term#\n",
    "            model_1_all_linear1_params = model_1.linear1\n",
    "            model_1_all_linear2_params= torch.cat([x.view(-1) for x in model_1.linear2.parameters()][:-1])\n",
    "            model_1_all_linear3_params= torch.cat([x.view(-1) for x in model_1.linear3.parameters()][:-1])\n",
    "            model_1_all_linear4_params= torch.cat([x.view(-1) for x in model_1.linear4.parameters()][:-1])\n",
    "           \n",
    "\n",
    "            model_2_all_linear1_params = model_1.linear1\n",
    "            model_2_all_linear2_params= torch.cat([x.view(-1) for x in model_2.linear2.parameters()][:-1])\n",
    "            model_2_all_linear3_params= torch.cat([x.view(-1) for x in model_2.linear3.parameters()][:-1])\n",
    "            model_2_all_linear4_params= torch.cat([x.view(-1) for x in model_2.linear4.parameters()][:-1])\n",
    "    \n",
    "\n",
    "            model_3_all_linear1_params = model_3.linear1\n",
    "            model_3_all_linear2_params= torch.cat([x.view(-1) for x in model_3.linear2.parameters()][:-1])\n",
    "            model_3_all_linear3_params= torch.cat([x.view(-1) for x in model_3.linear3.parameters()][:-1])\n",
    "            model_3_all_linear4_params= torch.cat([x.view(-1) for x in model_3.linear4.parameters()][:-1])\n",
    "    \n",
    "\n",
    "\n",
    "            # compute loss\n",
    "            all_linear1_params=torch.cat(( model_1_all_linear1_params.reshape(1,-1),  model_2_all_linear1_params.reshape(1,-1), model_3_all_linear1_params.reshape(1,-1)),0)\n",
    "            all_linear234_params=torch.cat((model_1_all_linear2_params,model_1_all_linear3_params, model_1_all_linear4_params,\n",
    "                                             model_2_all_linear2_params,model_2_all_linear3_params, model_2_all_linear4_params,\n",
    "                                             model_3_all_linear2_params,model_3_all_linear3_params,model_3_all_linear4_params),0)\n",
    "\n",
    "            BCE_loss_1 = loss_fn(out_1, targets_1[idx_train].reshape(-1,1))\n",
    "            BCE_loss_2 = loss_fn(out_2, targets_2[idx_train].reshape(-1,1))\n",
    "            BCE_loss_3 = loss_fn(out_3, targets_3[idx_train].reshape(-1,1))\n",
    "\n",
    "#             l1_regularization = lambda1 * smooth_l1(all_linear1_params,prior)\n",
    "            l1_regularization = lambda1 * torch.sum(torch.norm(all_linear1_params[:,prior:],p=2,dim=0))\n",
    "\n",
    "            l2_regularization = lambda2* torch.sum(all_linear234_params.pow(2))\n",
    "            BCE_loss=BCE_loss_1+BCE_loss_2+BCE_loss_3\n",
    "            loss =BCE_loss+l1_regularization +l2_regularization\n",
    "\n",
    "            # record loss\n",
    "            BCE.append(BCE_loss.item())\n",
    "\n",
    "            # compute derivative\n",
    "            loss.backward()\n",
    "\n",
    "            # gradient descent\n",
    "            optimizer.step()\n",
    "\n",
    "            # learning rate decay\n",
    "            scheduler.step()\n",
    "        \n",
    "        \n",
    "        test_out_1, test_layer1_out_1, test_layer2_out_1,test_layer3_out_1= model_1(train_x1[idx_test])\n",
    "        test_out_2, test_layer1_out_2, test_layer2_out_2,test_layer3_out_2= model_2(train_x2[idx_test])\n",
    "        test_out_3, test_layer1_out_3, test_layer2_out_3,test_layer3_out_3= model_3(train_x3[idx_test])\n",
    "        \n",
    "        test_BCE_loss_1 = loss_fn(test_out_1, targets_1[idx_test].reshape(-1,1))\n",
    "        test_BCE_loss_2 = loss_fn(test_out_2, targets_2[idx_test].reshape(-1,1))\n",
    "        test_BCE_loss_3 = loss_fn(test_out_3, targets_3[idx_test].reshape(-1,1))\n",
    "        \n",
    "        test_BCE_loss=test_BCE_loss_1+test_BCE_loss_2+test_BCE_loss_3\n",
    "        \n",
    "        sum_test_BCE_loss+=test_BCE_loss.item()\n",
    "\n",
    "    #print(\"loss: \",)\n",
    "    tune.report(my_test_BCE_loss=sum_test_BCE_loss/split_num)\n",
    "     \n",
    "        \n",
    "if __name__ == '__main__':\n",
    "    inputs_1,targets_1 = train_x1,train_y1\n",
    "    inputs_2,targets_2 = train_x2,train_y2\n",
    "    inputs_3,targets_3 = train_x3,train_y3\n",
    "    #train_model(inputs_1,targets_1,inputs_2,targets_2,inputs_3,targets_3,lambda1=0.1,lambda2=0.06)\n",
    "    \n",
    "    config={\n",
    "        \"lambda1\": tune.choice([0.01,0.02,0.03,0.04,0.05]),\n",
    "        \"lambda2\": tune.choice([0.001,0.002,0.003])\n",
    "    }\n",
    "    #config={\n",
    "    #    \"lambda1\": tune.choice([0.05,0.1,0.6]),\n",
    "    #    \"lambda2\": tune.choice([0.0001,0.0002,0.0003, 0.0004,0.0005])\n",
    "    #}\n",
    "\n",
    "    result = tune.run(\n",
    "        train_model,  \n",
    "        config=config,\n",
    "        num_samples=30)\n",
    "    \n",
    "    # 得到最后的结果\n",
    "    print(\"======================== Result =========================\")\n",
    "    print(result.results_df)\n"
   ]
  },
  {
   "cell_type": "code",
   "execution_count": 64,
   "id": "9c54efbd",
   "metadata": {},
   "outputs": [
    {
     "name": "stdout",
     "output_type": "stream",
     "text": [
      "Best trial final validation loss: 1.0923670649528503\n"
     ]
    },
    {
     "data": {
      "text/plain": [
       "{'lambda1': 0.05, 'lambda2': 0.003}"
      ]
     },
     "execution_count": 64,
     "metadata": {},
     "output_type": "execute_result"
    }
   ],
   "source": [
    "best_trial = result.get_best_trial(\"my_test_BCE_loss\", \"min\", \"last\")\n",
    "print(\"Best trial final validation loss: {}\".format(best_trial.last_result[\"my_test_BCE_loss\"]))\n",
    "final_lambda=result.get_best_config('my_test_BCE_loss',mode='min')\n",
    "final_lambda"
   ]
  },
  {
   "cell_type": "code",
   "execution_count": 65,
   "id": "60203ad7",
   "metadata": {},
   "outputs": [],
   "source": [
    "################## second step##################\n",
    "################## training stage ##################\n",
    "\n",
    "# set hyperparamters\n",
    "final_lambda=result.get_best_config('my_test_BCE_loss',mode='min')\n",
    "lambda1,lambda2=final_lambda[\"lambda1\"],final_lambda[\"lambda2\"]\n",
    "learning_rate=0.7\n",
    "max_iteration=1000\n",
    "\n",
    "# switch training set\n",
    "inputs_1,targets_1 = train_x1,train_y1\n",
    "inputs_2,targets_2 = train_x2,train_y2\n",
    "inputs_3,targets_3 = train_x3,train_y3\n",
    "\n",
    "# switching testing set\n",
    "test_inputs_1, test_targets_1 = test_x1,test_y1\n",
    "test_inputs_2, test_targets_2 = test_x2,test_y2\n",
    "test_inputs_3, test_targets_3 = test_x3,test_y3\n",
    "\n",
    "# record loss descent\n",
    "BCE=[]\n",
    "\n",
    "\n",
    "# main nn object\n",
    "class MLP(torch.nn.Module):\n",
    "    def __init__(self,seed):\n",
    "        super(MLP, self).__init__()\n",
    "        torch.manual_seed(seed)\n",
    "        self.linear1 = torch.nn.Parameter(torch.randn(p))\n",
    "        self.linear2 = torch.nn.Linear(p,10)\n",
    "        self.linear3 = torch.nn.Linear(10,10)\n",
    "        self.linear4 = torch.nn.Linear(10,1)\n",
    "\n",
    "    def forward(self, x):\n",
    "        layer1_out = self.linear1*x\n",
    "        layer2_out = F.relu(self.linear2(layer1_out))\n",
    "        layer3_out = F.relu(self.linear3(layer2_out))\n",
    "        out= torch.sigmoid(self.linear4(layer3_out))\n",
    "        return out, layer1_out, layer2_out,layer3_out\n",
    "    \n",
    "\n",
    "\n",
    "model_1=MLP(seed=1)\n",
    "model_2=MLP(seed=1)\n",
    "model_3=MLP(seed=1)\n",
    "\n",
    "loss_fn = torch.nn.BCELoss()\n",
    "params_to_optimize=list(model_1.parameters())+list(model_2.parameters())+list(model_3.parameters())\n",
    "optimizer = torch.optim.SGD(params_to_optimize, lr=learning_rate)\n",
    "\n",
    "# learning rate decay scheme\n",
    "scheduler = torch.optim.lr_scheduler.MultiStepLR(optimizer, milestones=[100,200,300,400,500,600,700,800], gamma=0.4)\n",
    "\n",
    "loss_record=[]\n",
    "# loop for max_iteration times\n",
    "for t in range(max_iteration):\n",
    "    \n",
    "    # renew optimizer\n",
    "    optimizer.zero_grad()\n",
    "    \n",
    "    # forward propagate\n",
    "    out_1, layer1_out_1, layer2_out_1,layer3_out_1= model_1(inputs_1)\n",
    "    out_2, layer1_out_2, layer2_out_2,layer3_out_2= model_2(inputs_2)\n",
    "    out_3, layer1_out_3, layer2_out_3,layer3_out_3= model_3(inputs_3)\n",
    "    \n",
    "    \n",
    "    \n",
    "    # extract parameters\n",
    "    #[:-1] for leaving out bias term#\n",
    "    model_1_all_linear1_params = model_1.linear1\n",
    "    model_1_all_linear2_params= torch.cat([x.view(-1) for x in model_1.linear2.parameters()][:-1])\n",
    "    model_1_all_linear3_params= torch.cat([x.view(-1) for x in model_1.linear3.parameters()][:-1])\n",
    "    model_1_all_linear4_params= torch.cat([x.view(-1) for x in model_1.linear4.parameters()][:-1])\n",
    "    \n",
    "    model_2_all_linear1_params = model_1.linear1\n",
    "    model_2_all_linear2_params= torch.cat([x.view(-1) for x in model_2.linear2.parameters()][:-1])\n",
    "    model_2_all_linear3_params= torch.cat([x.view(-1) for x in model_2.linear3.parameters()][:-1])\n",
    "    model_2_all_linear4_params= torch.cat([x.view(-1) for x in model_2.linear4.parameters()][:-1])\n",
    "    \n",
    "    model_3_all_linear1_params = model_3.linear1\n",
    "    model_3_all_linear2_params= torch.cat([x.view(-1) for x in model_3.linear2.parameters()][:-1])\n",
    "    model_3_all_linear3_params= torch.cat([x.view(-1) for x in model_3.linear3.parameters()][:-1])\n",
    "    model_3_all_linear4_params= torch.cat([x.view(-1) for x in model_3.linear4.parameters()][:-1])\n",
    "    \n",
    "\n",
    "    # compute loss\n",
    "\n",
    "    all_linear1_params=torch.cat(( model_1_all_linear1_params.reshape(1,-1),  model_2_all_linear1_params.reshape(1,-1), model_3_all_linear1_params.reshape(1,-1)),0)\n",
    "    all_linear234_params=torch.cat((model_1_all_linear2_params,model_1_all_linear3_params, model_1_all_linear4_params,\n",
    "                                     model_2_all_linear2_params,model_2_all_linear3_params, model_2_all_linear4_params,\n",
    "                                     model_3_all_linear2_params,model_3_all_linear3_params,model_3_all_linear4_params),0)\n",
    "    \n",
    "    BCE_loss_1 = loss_fn(out_1, targets_1.reshape(-1,1))\n",
    "    BCE_loss_2 = loss_fn(out_2, targets_2.reshape(-1,1))\n",
    "    BCE_loss_3 = loss_fn(out_3, targets_3.reshape(-1,1))\n",
    "    \n",
    "#     l1_regularization = lambda1 * smooth_l1(all_linear1_params,prior)\n",
    "    \n",
    "    l1_regularization = lambda1 * torch.sum(torch.norm(all_linear1_params[:,prior:],p=2,dim=0))\n",
    "    \n",
    "    l2_regularization = lambda2 * torch.sum(all_linear234_params.pow(2))\n",
    "    BCE_loss=BCE_loss_1+BCE_loss_2+BCE_loss_3\n",
    "    loss =BCE_loss+l1_regularization +l2_regularization\n",
    "    \n",
    "    loss_record.append(loss.item())\n",
    "    # record loss\n",
    "    BCE.append(BCE_loss.item())\n",
    "    \n",
    "    # compute derivative\n",
    "    loss.backward()\n",
    "    \n",
    "    # gradient descent\n",
    "    optimizer.step()\n",
    "    \n",
    "    # learning rate decay\n",
    "    scheduler.step()\n"
   ]
  },
  {
   "cell_type": "code",
   "execution_count": 66,
   "id": "5fe64864",
   "metadata": {},
   "outputs": [
    {
     "data": {
      "text/plain": [
       "tensor(0.1617, grad_fn=<AddBackward0>)"
      ]
     },
     "execution_count": 66,
     "metadata": {},
     "output_type": "execute_result"
    },
    {
     "data": {
      "text/plain": [
       "[<matplotlib.lines.Line2D at 0x7f2e184e5ea0>]"
      ]
     },
     "execution_count": 66,
     "metadata": {},
     "output_type": "execute_result"
    },
    {
     "data": {
      "image/png": "[encoded data removed]",
      "text/plain": [
       "<Figure size 640x480 with 1 Axes>"
      ]
     },
     "metadata": {},
     "output_type": "display_data"
    }
   ],
   "source": [
    "BCE_loss\n",
    "plt.plot([math.log(x) for x in loss_record])"
   ]
  },
  {
   "cell_type": "code",
   "execution_count": 67,
   "id": "8cabd2aa",
   "metadata": {},
   "outputs": [
    {
     "data": {
      "text/plain": [
       "tensor([[-1.3039e-01, -1.6546e-01, -2.2986e-01, -1.3604e-01, -1.9853e-01,\n",
       "         -2.1634e-01, -1.4035e-01, -1.4485e-01, -1.7821e-01,  1.4371e-01,\n",
       "          1.4231e-05, -2.3663e-05, -4.8892e-06, -8.6076e-04, -2.7230e-06,\n",
       "         -9.0964e-06, -1.2803e-07,  1.0974e-05,  2.7443e-05,  1.1970e-05,\n",
       "         -1.9589e-05, -1.0304e-05,  1.9017e-05, -1.8033e-06,  1.5643e-05,\n",
       "          8.0088e-06, -1.4226e-05,  7.8190e-06, -3.6410e-06, -4.3796e-06,\n",
       "         -4.7299e-06,  3.2162e-06, -1.5246e-06, -2.1928e-05, -1.6322e-05,\n",
       "          1.7469e-05,  2.4989e-05, -8.5264e-06,  2.9207e-05, -3.3531e-05,\n",
       "          2.6493e-05, -3.8215e-08,  4.4861e-06, -1.8491e-05,  3.4238e-05,\n",
       "         -9.3440e-06,  1.3460e-05, -5.8571e-06,  7.6689e-07, -3.7005e-05,\n",
       "          2.8906e-05, -2.6084e-06, -6.7283e-07, -8.3350e-06,  9.5453e-06,\n",
       "          4.4477e-05,  1.3804e-04, -1.3981e-05, -2.8677e-06,  2.2656e-05,\n",
       "         -2.8494e-05, -1.3370e-05, -7.9553e-06,  5.0600e-06,  3.1390e-05,\n",
       "          1.2146e-05, -7.1577e-06, -1.7190e-05,  2.7049e-05,  1.2454e-05,\n",
       "          5.0594e-02, -2.5444e-05, -7.0404e-07, -1.0026e-05, -2.2071e-05,\n",
       "         -2.2254e-03, -4.6163e-06, -5.8425e-06,  9.6374e-06, -1.4723e-05,\n",
       "          1.9795e-05, -7.9277e-06, -1.0839e-05, -1.3019e-05,  1.0055e-05,\n",
       "          1.6151e-05, -6.7732e-06, -1.1658e-05,  7.1815e-06,  3.7029e-06,\n",
       "          2.1756e-06,  3.1952e-05, -1.3391e-05,  2.4821e-05, -1.6636e-05,\n",
       "          1.3052e-05,  8.5576e-06, -2.0173e-05, -3.0646e-05, -2.2942e-05]],\n",
       "       grad_fn=<ReshapeAliasBackward0>)"
      ]
     },
     "execution_count": 67,
     "metadata": {},
     "output_type": "execute_result"
    },
    {
     "data": {
      "text/plain": [
       "tensor([[-1.3039e-01, -1.6546e-01, -2.2986e-01, -1.3604e-01, -1.9853e-01,\n",
       "         -2.1634e-01, -1.4035e-01, -1.4485e-01, -1.7821e-01,  1.4371e-01,\n",
       "          1.4231e-05, -2.3663e-05, -4.8892e-06, -8.6076e-04, -2.7230e-06,\n",
       "         -9.0964e-06, -1.2803e-07,  1.0974e-05,  2.7443e-05,  1.1970e-05,\n",
       "         -1.9589e-05, -1.0304e-05,  1.9017e-05, -1.8033e-06,  1.5643e-05,\n",
       "          8.0088e-06, -1.4226e-05,  7.8190e-06, -3.6410e-06, -4.3796e-06,\n",
       "         -4.7299e-06,  3.2162e-06, -1.5246e-06, -2.1928e-05, -1.6322e-05,\n",
       "          1.7469e-05,  2.4989e-05, -8.5264e-06,  2.9207e-05, -3.3531e-05,\n",
       "          2.6493e-05, -3.8215e-08,  4.4861e-06, -1.8491e-05,  3.4238e-05,\n",
       "         -9.3440e-06,  1.3460e-05, -5.8571e-06,  7.6689e-07, -3.7005e-05,\n",
       "          2.8906e-05, -2.6084e-06, -6.7283e-07, -8.3350e-06,  9.5453e-06,\n",
       "          4.4477e-05,  1.3804e-04, -1.3981e-05, -2.8677e-06,  2.2656e-05,\n",
       "         -2.8494e-05, -1.3370e-05, -7.9553e-06,  5.0600e-06,  3.1390e-05,\n",
       "          1.2146e-05, -7.1577e-06, -1.7190e-05,  2.7049e-05,  1.2454e-05,\n",
       "          5.0594e-02, -2.5444e-05, -7.0404e-07, -1.0026e-05, -2.2071e-05,\n",
       "         -2.2254e-03, -4.6163e-06, -5.8425e-06,  9.6374e-06, -1.4723e-05,\n",
       "          1.9795e-05, -7.9277e-06, -1.0839e-05, -1.3019e-05,  1.0055e-05,\n",
       "          1.6151e-05, -6.7732e-06, -1.1658e-05,  7.1815e-06,  3.7029e-06,\n",
       "          2.1756e-06,  3.1952e-05, -1.3391e-05,  2.4821e-05, -1.6636e-05,\n",
       "          1.3052e-05,  8.5576e-06, -2.0173e-05, -3.0646e-05, -2.2942e-05]],\n",
       "       grad_fn=<ReshapeAliasBackward0>)"
      ]
     },
     "execution_count": 67,
     "metadata": {},
     "output_type": "execute_result"
    },
    {
     "data": {
      "text/plain": [
       "tensor([[-1.8166e-01, -2.1395e-01, -2.6784e-01, -2.1140e-01,  1.9541e-01,\n",
       "         -2.9549e-01, -1.7233e-01, -1.8664e-01, -1.9155e-01, -2.0583e-01,\n",
       "         -1.0467e-05,  1.8322e-07,  7.3551e-07,  3.8340e-02,  1.1287e-07,\n",
       "          3.6043e-06,  4.6134e-06,  1.2628e-05,  1.9167e-06, -2.2811e-06,\n",
       "         -4.0194e-06,  2.9222e-06, -2.4609e-06, -5.3684e-06,  1.1066e-05,\n",
       "          6.2174e-07, -1.6424e-06, -5.7294e-06, -2.1580e-06,  2.0064e-07,\n",
       "          1.0232e-06, -3.0686e-06, -3.9010e-07,  9.4123e-07,  4.7381e-06,\n",
       "          3.2398e-06,  2.3167e-08,  1.2125e-07, -6.2763e-06,  1.2496e-06,\n",
       "         -3.4948e-06,  8.2685e-08, -2.0770e-06,  8.1471e-08,  5.5318e-06,\n",
       "         -1.5464e-06,  8.1642e-06, -2.8126e-07,  5.2215e-07,  3.1611e-06,\n",
       "         -2.9947e-06, -3.2854e-07, -5.3420e-07,  2.3286e-06,  5.3204e-06,\n",
       "         -4.3982e-06,  6.8732e-03,  9.6446e-06,  2.9809e-07, -2.4834e-07,\n",
       "          6.4565e-07, -2.5952e-07, -2.0184e-05, -6.7695e-07,  6.0104e-06,\n",
       "         -3.7898e-06,  9.1828e-07,  3.7805e-07,  8.3333e-07, -1.1545e-06,\n",
       "          1.1072e-01, -1.3906e-06, -1.1453e-06,  6.9289e-07, -1.0734e-05,\n",
       "         -7.6578e-02, -7.8269e-07, -1.1270e-06,  1.0014e-06, -7.1247e-06,\n",
       "         -1.4729e-07, -4.6434e-07, -1.2554e-07,  9.2185e-08,  7.7997e-06,\n",
       "         -8.8185e-06, -3.8346e-07,  1.0882e-05,  3.0054e-06,  3.6038e-07,\n",
       "         -2.0225e-06, -4.6948e-06, -7.5470e-06,  1.0119e-07, -3.3570e-06,\n",
       "         -5.5950e-08,  8.5930e-07,  1.0635e-07, -1.7860e-06,  2.3204e-07]],\n",
       "       grad_fn=<ReshapeAliasBackward0>)"
      ]
     },
     "execution_count": 67,
     "metadata": {},
     "output_type": "execute_result"
    }
   ],
   "source": [
    "model_1_all_linear1_params.reshape(1,-1)\n",
    "model_2_all_linear1_params.reshape(1,-1)\n",
    "model_3_all_linear1_params.reshape(1,-1)"
   ]
  },
  {
   "cell_type": "code",
   "execution_count": 69,
   "id": "4c2f2e17",
   "metadata": {},
   "outputs": [
    {
     "data": {
      "text/plain": [
       "array([[44,  7],\n",
       "       [11, 58]])"
      ]
     },
     "execution_count": 69,
     "metadata": {},
     "output_type": "execute_result"
    },
    {
     "data": {
      "text/plain": [
       "0.8405797101449275"
      ]
     },
     "execution_count": 69,
     "metadata": {},
     "output_type": "execute_result"
    },
    {
     "data": {
      "text/plain": [
       "0.8627450980392157"
      ]
     },
     "execution_count": 69,
     "metadata": {},
     "output_type": "execute_result"
    },
    {
     "data": {
      "text/plain": [
       "0.85"
      ]
     },
     "execution_count": 69,
     "metadata": {},
     "output_type": "execute_result"
    },
    {
     "data": {
      "text/plain": [
       "0.8923076923076924"
      ]
     },
     "execution_count": 69,
     "metadata": {},
     "output_type": "execute_result"
    },
    {
     "data": {
      "text/plain": [
       "0.8656716417910447"
      ]
     },
     "execution_count": 69,
     "metadata": {},
     "output_type": "execute_result"
    }
   ],
   "source": [
    "################## third step ##################\n",
    "################## testing stage ##################\n",
    "\n",
    "prediction_1= (model_1(test_x1)[0]>0.5).clone().int()\n",
    "target_1= test_y1.reshape(-1,1).int()\n",
    "\n",
    "prediction_2= (model_2(test_x2)[0]>0.5).clone().int()\n",
    "target_2= test_y2.reshape(-1,1).int()\n",
    "\n",
    "prediction_3= (model_3(test_x3)[0]>0.5).clone().int()\n",
    "target_3= test_y3.reshape(-1,1).int()\n",
    "\n",
    "prediction=np.append(prediction_1,prediction_2)\n",
    "prediction=np.append(prediction,prediction_3)\n",
    "prediction=prediction.tolist()\n",
    "\n",
    "target=np.append(target_1,target_2)\n",
    "target=np.append(target,target_3)\n",
    "target=target.tolist()\n",
    "\n",
    "final_matrix=confusion_matrix(target,prediction)\n",
    "final_matrix\n",
    "recall_score(target,prediction)#TPR\n",
    "final_matrix[0,0]/(sum(final_matrix[0,:]))#TNR\n",
    "accuracy_score(target,prediction)\n",
    "precision_score(target,prediction)\n",
    "f1_score(target,prediction)"
   ]
  },
  {
   "cell_type": "code",
   "execution_count": 13,
   "id": "19a69d2e",
   "metadata": {
    "scrolled": true
   },
   "outputs": [
    {
     "data": {
      "text/plain": [
       "array([[18,  0],\n",
       "       [ 2, 20]])"
      ]
     },
     "execution_count": 13,
     "metadata": {},
     "output_type": "execute_result"
    },
    {
     "data": {
      "text/plain": [
       "0.9090909090909091"
      ]
     },
     "execution_count": 13,
     "metadata": {},
     "output_type": "execute_result"
    },
    {
     "data": {
      "text/plain": [
       "1.0"
      ]
     },
     "execution_count": 13,
     "metadata": {},
     "output_type": "execute_result"
    },
    {
     "data": {
      "text/plain": [
       "array([[11,  4],\n",
       "       [ 8, 17]])"
      ]
     },
     "execution_count": 13,
     "metadata": {},
     "output_type": "execute_result"
    },
    {
     "data": {
      "text/plain": [
       "0.68"
      ]
     },
     "execution_count": 13,
     "metadata": {},
     "output_type": "execute_result"
    },
    {
     "data": {
      "text/plain": [
       "0.7333333333333333"
      ]
     },
     "execution_count": 13,
     "metadata": {},
     "output_type": "execute_result"
    },
    {
     "data": {
      "text/plain": [
       "array([[15,  3],\n",
       "       [ 1, 21]])"
      ]
     },
     "execution_count": 13,
     "metadata": {},
     "output_type": "execute_result"
    },
    {
     "data": {
      "text/plain": [
       "0.9545454545454546"
      ]
     },
     "execution_count": 13,
     "metadata": {},
     "output_type": "execute_result"
    },
    {
     "data": {
      "text/plain": [
       "0.8333333333333334"
      ]
     },
     "execution_count": 13,
     "metadata": {},
     "output_type": "execute_result"
    }
   ],
   "source": [
    "final_matrix_1=confusion_matrix(target_1,prediction_1)\n",
    "final_matrix_1\n",
    "recall_score(target_1,prediction_1)#TPR\n",
    "final_matrix_1[0,0]/(sum(final_matrix_1[0,:]))#TNR\n",
    "\n",
    "final_matrix_2=confusion_matrix(target_2,prediction_2)\n",
    "final_matrix_2\n",
    "recall_score(target_2,prediction_2)#TPR\n",
    "final_matrix_2[0,0]/(sum(final_matrix_2[0,:]))#TNR\n",
    "\n",
    "final_matrix_3=confusion_matrix(target_3,prediction_3)\n",
    "final_matrix_3\n",
    "recall_score(target_3,prediction_3)#TPR\n",
    "final_matrix_3[0,0]/(sum(final_matrix_3[0,:]))#TNR"
   ]
  },
  {
   "cell_type": "code",
   "execution_count": 83,
   "id": "989d97b7",
   "metadata": {},
   "outputs": [
    {
     "data": {
      "text/plain": [
       "array([[-1.30388215e-01, -1.65464148e-01, -2.29860783e-01,\n",
       "        -1.36035144e-01, -1.98529407e-01, -2.16343313e-01,\n",
       "        -1.40345037e-01, -1.44853383e-01, -1.78214088e-01,\n",
       "         1.43709853e-01,  1.42309300e-05, -2.36625965e-05,\n",
       "        -4.88923069e-06, -8.60764645e-04, -2.72299417e-06,\n",
       "        -9.09640221e-06, -1.28030280e-07,  1.09744324e-05,\n",
       "         2.74434005e-05,  1.19696342e-05, -1.95893263e-05,\n",
       "        -1.03042503e-05,  1.90168830e-05, -1.80325537e-06,\n",
       "         1.56426577e-05,  8.00883208e-06, -1.42256258e-05,\n",
       "         7.81895142e-06, -3.64104767e-06, -4.37956896e-06,\n",
       "        -4.72987858e-06,  3.21623793e-06, -1.52461507e-06,\n",
       "        -2.19282156e-05, -1.63223194e-05,  1.74691850e-05,\n",
       "         2.49890290e-05, -8.52636276e-06,  2.92066143e-05,\n",
       "        -3.35306795e-05,  2.64929440e-05, -3.82151910e-08,\n",
       "         4.48607216e-06, -1.84909786e-05,  3.42377571e-05,\n",
       "        -9.34395848e-06,  1.34604461e-05, -5.85709358e-06,\n",
       "         7.66887979e-07, -3.70049966e-05,  2.89059299e-05,\n",
       "        -2.60843581e-06, -6.72829287e-07, -8.33497597e-06,\n",
       "         9.54525422e-06,  4.44774996e-05,  1.38041680e-04,\n",
       "        -1.39806825e-05, -2.86769955e-06,  2.26560205e-05,\n",
       "        -2.84942234e-05, -1.33703261e-05, -7.95530377e-06,\n",
       "         5.05995013e-06,  3.13900746e-05,  1.21455878e-05,\n",
       "        -7.15774331e-06, -1.71896245e-05,  2.70489763e-05,\n",
       "         1.24535245e-05,  5.05944602e-02, -2.54442984e-05,\n",
       "        -7.04038598e-07, -1.00261332e-05, -2.20705788e-05,\n",
       "        -2.22540344e-03, -4.61629361e-06, -5.84247255e-06,\n",
       "         9.63736875e-06, -1.47226301e-05,  1.97946392e-05,\n",
       "        -7.92768242e-06, -1.08393015e-05, -1.30189337e-05,\n",
       "         1.00550915e-05,  1.61513090e-05, -6.77319213e-06,\n",
       "        -1.16576630e-05,  7.18148294e-06,  3.70293992e-06,\n",
       "         2.17557476e-06,  3.19521678e-05, -1.33909853e-05,\n",
       "         2.48205943e-05, -1.66361588e-05,  1.30522531e-05,\n",
       "         8.55758481e-06, -2.01727216e-05, -3.06457296e-05,\n",
       "        -2.29422403e-05]], dtype=float32)"
      ]
     },
     "execution_count": 83,
     "metadata": {},
     "output_type": "execute_result"
    },
    {
     "data": {
      "text/plain": [
       "array([[-1.30388215e-01, -1.65464148e-01, -2.29860783e-01,\n",
       "        -1.36035144e-01, -1.98529407e-01, -2.16343313e-01,\n",
       "        -1.40345037e-01, -1.44853383e-01, -1.78214088e-01,\n",
       "         1.43709853e-01,  1.42309300e-05, -2.36625965e-05,\n",
       "        -4.88923069e-06, -8.60764645e-04, -2.72299417e-06,\n",
       "        -9.09640221e-06, -1.28030280e-07,  1.09744324e-05,\n",
       "         2.74434005e-05,  1.19696342e-05, -1.95893263e-05,\n",
       "        -1.03042503e-05,  1.90168830e-05, -1.80325537e-06,\n",
       "         1.56426577e-05,  8.00883208e-06, -1.42256258e-05,\n",
       "         7.81895142e-06, -3.64104767e-06, -4.37956896e-06,\n",
       "        -4.72987858e-06,  3.21623793e-06, -1.52461507e-06,\n",
       "        -2.19282156e-05, -1.63223194e-05,  1.74691850e-05,\n",
       "         2.49890290e-05, -8.52636276e-06,  2.92066143e-05,\n",
       "        -3.35306795e-05,  2.64929440e-05, -3.82151910e-08,\n",
       "         4.48607216e-06, -1.84909786e-05,  3.42377571e-05,\n",
       "        -9.34395848e-06,  1.34604461e-05, -5.85709358e-06,\n",
       "         7.66887979e-07, -3.70049966e-05,  2.89059299e-05,\n",
       "        -2.60843581e-06, -6.72829287e-07, -8.33497597e-06,\n",
       "         9.54525422e-06,  4.44774996e-05,  1.38041680e-04,\n",
       "        -1.39806825e-05, -2.86769955e-06,  2.26560205e-05,\n",
       "        -2.84942234e-05, -1.33703261e-05, -7.95530377e-06,\n",
       "         5.05995013e-06,  3.13900746e-05,  1.21455878e-05,\n",
       "        -7.15774331e-06, -1.71896245e-05,  2.70489763e-05,\n",
       "         1.24535245e-05,  5.05944602e-02, -2.54442984e-05,\n",
       "        -7.04038598e-07, -1.00261332e-05, -2.20705788e-05,\n",
       "        -2.22540344e-03, -4.61629361e-06, -5.84247255e-06,\n",
       "         9.63736875e-06, -1.47226301e-05,  1.97946392e-05,\n",
       "        -7.92768242e-06, -1.08393015e-05, -1.30189337e-05,\n",
       "         1.00550915e-05,  1.61513090e-05, -6.77319213e-06,\n",
       "        -1.16576630e-05,  7.18148294e-06,  3.70293992e-06,\n",
       "         2.17557476e-06,  3.19521678e-05, -1.33909853e-05,\n",
       "         2.48205943e-05, -1.66361588e-05,  1.30522531e-05,\n",
       "         8.55758481e-06, -2.01727216e-05, -3.06457296e-05,\n",
       "        -2.29422403e-05]], dtype=float32)"
      ]
     },
     "execution_count": 83,
     "metadata": {},
     "output_type": "execute_result"
    },
    {
     "data": {
      "text/plain": [
       "array([[-1.81664243e-01, -2.13945761e-01, -2.67836064e-01,\n",
       "        -2.11400330e-01,  1.95412323e-01, -2.95487761e-01,\n",
       "        -1.72332451e-01, -1.86642334e-01, -1.91547915e-01,\n",
       "        -2.05829948e-01, -1.04673973e-05,  1.83223662e-07,\n",
       "         7.35514391e-07,  3.83403264e-02,  1.12870083e-07,\n",
       "         3.60429158e-06,  4.61336003e-06,  1.26277573e-05,\n",
       "         1.91668437e-06, -2.28105137e-06, -4.01935449e-06,\n",
       "         2.92224649e-06, -2.46093487e-06, -5.36838616e-06,\n",
       "         1.10656738e-05,  6.21740014e-07, -1.64243170e-06,\n",
       "        -5.72941508e-06, -2.15801083e-06,  2.00636549e-07,\n",
       "         1.02315562e-06, -3.06859852e-06, -3.90095295e-07,\n",
       "         9.41229132e-07,  4.73808086e-06,  3.23977451e-06,\n",
       "         2.31672121e-08,  1.21250238e-07, -6.27626287e-06,\n",
       "         1.24955375e-06, -3.49484708e-06,  8.26847710e-08,\n",
       "        -2.07701146e-06,  8.14709722e-08,  5.53180325e-06,\n",
       "        -1.54640884e-06,  8.16416286e-06, -2.81255780e-07,\n",
       "         5.22149605e-07,  3.16109299e-06, -2.99472845e-06,\n",
       "        -3.28535918e-07, -5.34197454e-07,  2.32863385e-06,\n",
       "         5.32038621e-06, -4.39815267e-06,  6.87318342e-03,\n",
       "         9.64463379e-06,  2.98094136e-07, -2.48341138e-07,\n",
       "         6.45646594e-07, -2.59523631e-07, -2.01835992e-05,\n",
       "        -6.76947707e-07,  6.01037937e-06, -3.78977279e-06,\n",
       "         9.18276157e-07,  3.78048526e-07,  8.33334695e-07,\n",
       "        -1.15446153e-06,  1.10724337e-01, -1.39059955e-06,\n",
       "        -1.14528757e-06,  6.92889842e-07, -1.07338492e-05,\n",
       "        -7.65783489e-02, -7.82691984e-07, -1.12695204e-06,\n",
       "         1.00138402e-06, -7.12470637e-06, -1.47287025e-07,\n",
       "        -4.64339792e-07, -1.25540893e-07,  9.21852106e-08,\n",
       "         7.79974107e-06, -8.81851247e-06, -3.83457234e-07,\n",
       "         1.08815848e-05,  3.00540546e-06,  3.60376134e-07,\n",
       "        -2.02245155e-06, -4.69476481e-06, -7.54698431e-06,\n",
       "         1.01191404e-07, -3.35704362e-06, -5.59497195e-08,\n",
       "         8.59302929e-07,  1.06349979e-07, -1.78601260e-06,\n",
       "         2.32042282e-07]], dtype=float32)"
      ]
     },
     "execution_count": 83,
     "metadata": {},
     "output_type": "execute_result"
    }
   ],
   "source": [
    "# variable selection evaluation\n",
    "\n",
    "def cubic_root(x):\n",
    "    return math.copysign(math.pow(abs(x), 1.0/3.0), x)\n",
    "\n",
    "model_1_weight=model_1_all_linear1_params.detach().numpy().copy().reshape(1,-1)\n",
    "model_2_weight=model_2_all_linear1_params.detach().numpy().copy().reshape(1,-1)\n",
    "model_3_weight=model_3_all_linear1_params.detach().numpy().copy().reshape(1,-1)\n",
    "\n",
    "model_1_weight\n",
    "model_2_weight\n",
    "model_3_weight"
   ]
  },
  {
   "cell_type": "code",
   "execution_count": 84,
   "id": "0b6126af",
   "metadata": {},
   "outputs": [
    {
     "data": {
      "text/plain": [
       "array([[-0.13038822, -0.16546415, -0.22986078, -0.13603514, -0.1985294 ,\n",
       "        -0.21634331, -0.14034504, -0.14485338, -0.17821409,  0.14370985,\n",
       "         0.        ,  0.        ,  0.        ,  0.        ,  0.        ,\n",
       "         0.        ,  0.        ,  0.        ,  0.        ,  0.        ,\n",
       "         0.        ,  0.        ,  0.        ,  0.        ,  0.        ,\n",
       "         0.        ,  0.        ,  0.        ,  0.        ,  0.        ,\n",
       "         0.        ,  0.        ,  0.        ,  0.        ,  0.        ,\n",
       "         0.        ,  0.        ,  0.        ,  0.        ,  0.        ,\n",
       "         0.        ,  0.        ,  0.        ,  0.        ,  0.        ,\n",
       "         0.        ,  0.        ,  0.        ,  0.        ,  0.        ,\n",
       "         0.        ,  0.        ,  0.        ,  0.        ,  0.        ,\n",
       "         0.        ,  0.        ,  0.        ,  0.        ,  0.        ,\n",
       "         0.        ,  0.        ,  0.        ,  0.        ,  0.        ,\n",
       "         0.        ,  0.        ,  0.        ,  0.        ,  0.        ,\n",
       "         0.05059446,  0.        ,  0.        ,  0.        ,  0.        ,\n",
       "         0.        ,  0.        ,  0.        ,  0.        ,  0.        ,\n",
       "         0.        ,  0.        ,  0.        ,  0.        ,  0.        ,\n",
       "         0.        ,  0.        ,  0.        ,  0.        ,  0.        ,\n",
       "         0.        ,  0.        ,  0.        ,  0.        ,  0.        ,\n",
       "         0.        ,  0.        ,  0.        ,  0.        ,  0.        ]],\n",
       "      dtype=float32)"
      ]
     },
     "execution_count": 84,
     "metadata": {},
     "output_type": "execute_result"
    },
    {
     "data": {
      "text/plain": [
       "array([ 1,  2,  3,  4,  5,  6,  7,  8,  9, 10, 71])"
      ]
     },
     "execution_count": 84,
     "metadata": {},
     "output_type": "execute_result"
    },
    {
     "data": {
      "text/plain": [
       "11"
      ]
     },
     "execution_count": 84,
     "metadata": {},
     "output_type": "execute_result"
    }
   ],
   "source": [
    "threshold=0.1\n",
    "mcl_w=np.zeros(p)\n",
    "\n",
    "for i in range(p):\n",
    "    mcl_w[i]=cubic_root(model_1_weight[0,i]*model_2_weight[0,i]*model_3_weight[0,i])\n",
    "\n",
    "max_mcl_w=max(abs(mcl_w))\n",
    "for i in range(p):\n",
    "    if (abs(mcl_w[i]))<=threshold*max_mcl_w:\n",
    "        model_1_weight[0,i]=0\n",
    "        model_2_weight[0,i]=0\n",
    "        model_3_weight[0,i]=0\n",
    "    else:\n",
    "        model_1_weight[0,i]=model_1_weight[0,i]\n",
    "        model_2_weight[0,i]=model_2_weight[0,i]\n",
    "        model_3_weight[0,i]=model_3_weight[0,i]\n",
    "index=np.nonzero(model_1_weight)[1]\n",
    "model_1_weight\n",
    "final_index=index+1\n",
    "final_index\n",
    "len(index)"
   ]
  },
  {
   "cell_type": "code",
   "execution_count": 85,
   "id": "b4e85fff",
   "metadata": {},
   "outputs": [
    {
     "data": {
      "text/plain": [
       "1.0"
      ]
     },
     "execution_count": 85,
     "metadata": {},
     "output_type": "execute_result"
    },
    {
     "data": {
      "text/plain": [
       "0.8777777777777778"
      ]
     },
     "execution_count": 85,
     "metadata": {},
     "output_type": "execute_result"
    },
    {
     "data": {
      "text/plain": [
       "0.9368979548370131"
      ]
     },
     "execution_count": 85,
     "metadata": {},
     "output_type": "execute_result"
    },
    {
     "data": {
      "text/plain": [
       "0.89"
      ]
     },
     "execution_count": 85,
     "metadata": {},
     "output_type": "execute_result"
    },
    {
     "name": "stderr",
     "output_type": "stream",
     "text": [
      "\u001b[2m\u001b[33m(raylet)\u001b[0m [2022-10-12 20:34:48,531 E 24772 24790] (raylet) file_system_monitor.cc:105: /tmp/ray/session_2022-10-11_20-16-49_834639_13400 is over 95% full, available space: 1469734912; capacity: 29394726912. Object creation will fail if spilling is required.\n",
      "\u001b[2m\u001b[33m(raylet)\u001b[0m [2022-10-12 20:34:58,539 E 24772 24790] (raylet) file_system_monitor.cc:105: /tmp/ray/session_2022-10-11_20-16-49_834639_13400 is over 95% full, available space: 1469624320; capacity: 29394726912. Object creation will fail if spilling is required.\n",
      "\u001b[2m\u001b[33m(raylet)\u001b[0m [2022-10-12 20:35:08,546 E 24772 24790] (raylet) file_system_monitor.cc:105: /tmp/ray/session_2022-10-11_20-16-49_834639_13400 is over 95% full, available space: 1469509632; capacity: 29394726912. Object creation will fail if spilling is required.\n",
      "\u001b[2m\u001b[33m(raylet)\u001b[0m [2022-10-12 20:35:18,553 E 24772 24790] (raylet) file_system_monitor.cc:105: /tmp/ray/session_2022-10-11_20-16-49_834639_13400 is over 95% full, available space: 1469378560; capacity: 29394726912. Object creation will fail if spilling is required.\n",
      "\u001b[2m\u001b[33m(raylet)\u001b[0m [2022-10-12 20:35:28,560 E 24772 24790] (raylet) file_system_monitor.cc:105: /tmp/ray/session_2022-10-11_20-16-49_834639_13400 is over 95% full, available space: 1469300736; capacity: 29394726912. Object creation will fail if spilling is required.\n",
      "\u001b[2m\u001b[33m(raylet)\u001b[0m [2022-10-12 20:35:38,566 E 24772 24790] (raylet) file_system_monitor.cc:105: /tmp/ray/session_2022-10-11_20-16-49_834639_13400 is over 95% full, available space: 1469218816; capacity: 29394726912. Object creation will fail if spilling is required.\n",
      "\u001b[2m\u001b[33m(raylet)\u001b[0m [2022-10-12 20:35:48,574 E 24772 24790] (raylet) file_system_monitor.cc:105: /tmp/ray/session_2022-10-11_20-16-49_834639_13400 is over 95% full, available space: 1469124608; capacity: 29394726912. Object creation will fail if spilling is required.\n",
      "\u001b[2m\u001b[33m(raylet)\u001b[0m [2022-10-12 20:35:58,582 E 24772 24790] (raylet) file_system_monitor.cc:105: /tmp/ray/session_2022-10-11_20-16-49_834639_13400 is over 95% full, available space: 1469001728; capacity: 29394726912. Object creation will fail if spilling is required.\n",
      "\u001b[2m\u001b[33m(raylet)\u001b[0m [2022-10-12 20:36:08,589 E 24772 24790] (raylet) file_system_monitor.cc:105: /tmp/ray/session_2022-10-11_20-16-49_834639_13400 is over 95% full, available space: 1468887040; capacity: 29394726912. Object creation will fail if spilling is required.\n",
      "\u001b[2m\u001b[33m(raylet)\u001b[0m [2022-10-12 20:36:18,597 E 24772 24790] (raylet) file_system_monitor.cc:105: /tmp/ray/session_2022-10-11_20-16-49_834639_13400 is over 95% full, available space: 1468764160; capacity: 29394726912. Object creation will fail if spilling is required.\n",
      "\u001b[2m\u001b[33m(raylet)\u001b[0m [2022-10-12 20:36:28,604 E 24772 24790] (raylet) file_system_monitor.cc:105: /tmp/ray/session_2022-10-11_20-16-49_834639_13400 is over 95% full, available space: 1468665856; capacity: 29394726912. Object creation will fail if spilling is required.\n",
      "\u001b[2m\u001b[33m(raylet)\u001b[0m [2022-10-12 20:36:38,612 E 24772 24790] (raylet) file_system_monitor.cc:105: /tmp/ray/session_2022-10-11_20-16-49_834639_13400 is over 95% full, available space: 1468608512; capacity: 29394726912. Object creation will fail if spilling is required.\n",
      "\u001b[2m\u001b[33m(raylet)\u001b[0m [2022-10-12 20:36:48,618 E 24772 24790] (raylet) file_system_monitor.cc:105: /tmp/ray/session_2022-10-11_20-16-49_834639_13400 is over 95% full, available space: 1468506112; capacity: 29394726912. Object creation will fail if spilling is required.\n",
      "\u001b[2m\u001b[33m(raylet)\u001b[0m [2022-10-12 20:36:58,625 E 24772 24790] (raylet) file_system_monitor.cc:105: /tmp/ray/session_2022-10-11_20-16-49_834639_13400 is over 95% full, available space: 1468391424; capacity: 29394726912. Object creation will fail if spilling is required.\n",
      "\u001b[2m\u001b[33m(raylet)\u001b[0m [2022-10-12 20:37:08,631 E 24772 24790] (raylet) file_system_monitor.cc:105: /tmp/ray/session_2022-10-11_20-16-49_834639_13400 is over 95% full, available space: 1468260352; capacity: 29394726912. Object creation will fail if spilling is required.\n",
      "\u001b[2m\u001b[33m(raylet)\u001b[0m [2022-10-12 20:37:18,638 E 24772 24790] (raylet) file_system_monitor.cc:105: /tmp/ray/session_2022-10-11_20-16-49_834639_13400 is over 95% full, available space: 1468149760; capacity: 29394726912. Object creation will fail if spilling is required.\n",
      "\u001b[2m\u001b[33m(raylet)\u001b[0m [2022-10-12 20:37:28,645 E 24772 24790] (raylet) file_system_monitor.cc:105: /tmp/ray/session_2022-10-11_20-16-49_834639_13400 is over 95% full, available space: 1467977728; capacity: 29394726912. Object creation will fail if spilling is required.\n",
      "\u001b[2m\u001b[33m(raylet)\u001b[0m [2022-10-12 20:37:38,651 E 24772 24790] (raylet) file_system_monitor.cc:105: /tmp/ray/session_2022-10-11_20-16-49_834639_13400 is over 95% full, available space: 1467916288; capacity: 29394726912. Object creation will fail if spilling is required.\n",
      "\u001b[2m\u001b[33m(raylet)\u001b[0m [2022-10-12 20:37:48,657 E 24772 24790] (raylet) file_system_monitor.cc:105: /tmp/ray/session_2022-10-11_20-16-49_834639_13400 is over 95% full, available space: 1467817984; capacity: 29394726912. Object creation will fail if spilling is required.\n",
      "\u001b[2m\u001b[33m(raylet)\u001b[0m [2022-10-12 20:37:58,664 E 24772 24790] (raylet) file_system_monitor.cc:105: /tmp/ray/session_2022-10-11_20-16-49_834639_13400 is over 95% full, available space: 1467699200; capacity: 29394726912. Object creation will fail if spilling is required.\n",
      "\u001b[2m\u001b[33m(raylet)\u001b[0m [2022-10-12 20:38:08,671 E 24772 24790] (raylet) file_system_monitor.cc:105: /tmp/ray/session_2022-10-11_20-16-49_834639_13400 is over 95% full, available space: 1467576320; capacity: 29394726912. Object creation will fail if spilling is required.\n",
      "\u001b[2m\u001b[33m(raylet)\u001b[0m [2022-10-12 20:38:18,678 E 24772 24790] (raylet) file_system_monitor.cc:105: /tmp/ray/session_2022-10-11_20-16-49_834639_13400 is over 95% full, available space: 1467428864; capacity: 29394726912. Object creation will fail if spilling is required.\n",
      "\u001b[2m\u001b[33m(raylet)\u001b[0m [2022-10-12 20:38:28,685 E 24772 24790] (raylet) file_system_monitor.cc:105: /tmp/ray/session_2022-10-11_20-16-49_834639_13400 is over 95% full, available space: 1467346944; capacity: 29394726912. Object creation will fail if spilling is required.\n",
      "\u001b[2m\u001b[33m(raylet)\u001b[0m [2022-10-12 20:38:38,692 E 24772 24790] (raylet) file_system_monitor.cc:105: /tmp/ray/session_2022-10-11_20-16-49_834639_13400 is over 95% full, available space: 1467265024; capacity: 29394726912. Object creation will fail if spilling is required.\n",
      "\u001b[2m\u001b[33m(raylet)\u001b[0m [2022-10-12 20:38:48,700 E 24772 24790] (raylet) file_system_monitor.cc:105: /tmp/ray/session_2022-10-11_20-16-49_834639_13400 is over 95% full, available space: 1467170816; capacity: 29394726912. Object creation will fail if spilling is required.\n",
      "\u001b[2m\u001b[33m(raylet)\u001b[0m [2022-10-12 20:38:58,706 E 24772 24790] (raylet) file_system_monitor.cc:105: /tmp/ray/session_2022-10-11_20-16-49_834639_13400 is over 95% full, available space: 1466499072; capacity: 29394726912. Object creation will fail if spilling is required.\n",
      "\u001b[2m\u001b[33m(raylet)\u001b[0m [2022-10-12 20:39:08,712 E 24772 24790] (raylet) file_system_monitor.cc:105: /tmp/ray/session_2022-10-11_20-16-49_834639_13400 is over 95% full, available space: 1465794560; capacity: 29394726912. Object creation will fail if spilling is required.\n",
      "\u001b[2m\u001b[33m(raylet)\u001b[0m [2022-10-12 20:39:18,717 E 24772 24790] (raylet) file_system_monitor.cc:105: /tmp/ray/session_2022-10-11_20-16-49_834639_13400 is over 95% full, available space: 1465135104; capacity: 29394726912. Object creation will fail if spilling is required.\n",
      "\u001b[2m\u001b[33m(raylet)\u001b[0m [2022-10-12 20:39:28,722 E 24772 24790] (raylet) file_system_monitor.cc:105: /tmp/ray/session_2022-10-11_20-16-49_834639_13400 is over 95% full, available space: 1464463360; capacity: 29394726912. Object creation will fail if spilling is required.\n",
      "\u001b[2m\u001b[33m(raylet)\u001b[0m [2022-10-12 20:39:38,727 E 24772 24790] (raylet) file_system_monitor.cc:105: /tmp/ray/session_2022-10-11_20-16-49_834639_13400 is over 95% full, available space: 1463427072; capacity: 29394726912. Object creation will fail if spilling is required.\n",
      "\u001b[2m\u001b[33m(raylet)\u001b[0m [2022-10-12 20:39:48,732 E 24772 24790] (raylet) file_system_monitor.cc:105: /tmp/ray/session_2022-10-11_20-16-49_834639_13400 is over 95% full, available space: 1463119872; capacity: 29394726912. Object creation will fail if spilling is required.\n"
     ]
    },
    {
     "name": "stderr",
     "output_type": "stream",
     "text": [
      "\u001b[2m\u001b[33m(raylet)\u001b[0m [2022-10-12 20:39:58,737 E 24772 24790] (raylet) file_system_monitor.cc:105: /tmp/ray/session_2022-10-11_20-16-49_834639_13400 is over 95% full, available space: 1461829632; capacity: 29394726912. Object creation will fail if spilling is required.\n",
      "\u001b[2m\u001b[33m(raylet)\u001b[0m [2022-10-12 20:40:08,742 E 24772 24790] (raylet) file_system_monitor.cc:105: /tmp/ray/session_2022-10-11_20-16-49_834639_13400 is over 95% full, available space: 1461592064; capacity: 29394726912. Object creation will fail if spilling is required.\n",
      "\u001b[2m\u001b[33m(raylet)\u001b[0m [2022-10-12 20:40:18,747 E 24772 24790] (raylet) file_system_monitor.cc:105: /tmp/ray/session_2022-10-11_20-16-49_834639_13400 is over 95% full, available space: 1460314112; capacity: 29394726912. Object creation will fail if spilling is required.\n",
      "\u001b[2m\u001b[33m(raylet)\u001b[0m [2022-10-12 20:40:28,752 E 24772 24790] (raylet) file_system_monitor.cc:105: /tmp/ray/session_2022-10-11_20-16-49_834639_13400 is over 95% full, available space: 1459920896; capacity: 29394726912. Object creation will fail if spilling is required.\n",
      "\u001b[2m\u001b[33m(raylet)\u001b[0m [2022-10-12 20:40:38,757 E 24772 24790] (raylet) file_system_monitor.cc:105: /tmp/ray/session_2022-10-11_20-16-49_834639_13400 is over 95% full, available space: 1458987008; capacity: 29394726912. Object creation will fail if spilling is required.\n",
      "\u001b[2m\u001b[33m(raylet)\u001b[0m [2022-10-12 20:40:48,762 E 24772 24790] (raylet) file_system_monitor.cc:105: /tmp/ray/session_2022-10-11_20-16-49_834639_13400 is over 95% full, available space: 1458606080; capacity: 29394726912. Object creation will fail if spilling is required.\n",
      "\u001b[2m\u001b[33m(raylet)\u001b[0m [2022-10-12 20:40:58,767 E 24772 24790] (raylet) file_system_monitor.cc:105: /tmp/ray/session_2022-10-11_20-16-49_834639_13400 is over 95% full, available space: 1457586176; capacity: 29394726912. Object creation will fail if spilling is required.\n",
      "\u001b[2m\u001b[33m(raylet)\u001b[0m [2022-10-12 20:41:08,771 E 24772 24790] (raylet) file_system_monitor.cc:105: /tmp/ray/session_2022-10-11_20-16-49_834639_13400 is over 95% full, available space: 1457041408; capacity: 29394726912. Object creation will fail if spilling is required.\n",
      "\u001b[2m\u001b[33m(raylet)\u001b[0m [2022-10-12 20:41:18,776 E 24772 24790] (raylet) file_system_monitor.cc:105: /tmp/ray/session_2022-10-11_20-16-49_834639_13400 is over 95% full, available space: 1456189440; capacity: 29394726912. Object creation will fail if spilling is required.\n",
      "\u001b[2m\u001b[33m(raylet)\u001b[0m [2022-10-12 20:41:28,782 E 24772 24790] (raylet) file_system_monitor.cc:105: /tmp/ray/session_2022-10-11_20-16-49_834639_13400 is over 95% full, available space: 1455665152; capacity: 29394726912. Object creation will fail if spilling is required.\n",
      "\u001b[2m\u001b[33m(raylet)\u001b[0m [2022-10-12 20:41:38,787 E 24772 24790] (raylet) file_system_monitor.cc:105: /tmp/ray/session_2022-10-11_20-16-49_834639_13400 is over 95% full, available space: 1454911488; capacity: 29394726912. Object creation will fail if spilling is required.\n",
      "\u001b[2m\u001b[33m(raylet)\u001b[0m [2022-10-12 20:41:48,791 E 24772 24790] (raylet) file_system_monitor.cc:105: /tmp/ray/session_2022-10-11_20-16-49_834639_13400 is over 95% full, available space: 1454276608; capacity: 29394726912. Object creation will fail if spilling is required.\n",
      "\u001b[2m\u001b[33m(raylet)\u001b[0m [2022-10-12 20:41:58,797 E 24772 24790] (raylet) file_system_monitor.cc:105: /tmp/ray/session_2022-10-11_20-16-49_834639_13400 is over 95% full, available space: 1453527040; capacity: 29394726912. Object creation will fail if spilling is required.\n",
      "\u001b[2m\u001b[33m(raylet)\u001b[0m [2022-10-12 20:42:08,802 E 24772 24790] (raylet) file_system_monitor.cc:105: /tmp/ray/session_2022-10-11_20-16-49_834639_13400 is over 95% full, available space: 1452781568; capacity: 29394726912. Object creation will fail if spilling is required.\n",
      "\u001b[2m\u001b[33m(raylet)\u001b[0m [2022-10-12 20:42:18,807 E 24772 24790] (raylet) file_system_monitor.cc:105: /tmp/ray/session_2022-10-11_20-16-49_834639_13400 is over 95% full, available space: 1451917312; capacity: 29394726912. Object creation will fail if spilling is required.\n",
      "\u001b[2m\u001b[33m(raylet)\u001b[0m [2022-10-12 20:42:28,812 E 24772 24790] (raylet) file_system_monitor.cc:105: /tmp/ray/session_2022-10-11_20-16-49_834639_13400 is over 95% full, available space: 1450946560; capacity: 29394726912. Object creation will fail if spilling is required.\n",
      "\u001b[2m\u001b[33m(raylet)\u001b[0m [2022-10-12 20:42:38,817 E 24772 24790] (raylet) file_system_monitor.cc:105: /tmp/ray/session_2022-10-11_20-16-49_834639_13400 is over 95% full, available space: 1450602496; capacity: 29394726912. Object creation will fail if spilling is required.\n",
      "\u001b[2m\u001b[33m(raylet)\u001b[0m [2022-10-12 20:42:48,822 E 24772 24790] (raylet) file_system_monitor.cc:105: /tmp/ray/session_2022-10-11_20-16-49_834639_13400 is over 95% full, available space: 1449582592; capacity: 29394726912. Object creation will fail if spilling is required.\n",
      "\u001b[2m\u001b[33m(raylet)\u001b[0m [2022-10-12 20:42:58,828 E 24772 24790] (raylet) file_system_monitor.cc:105: /tmp/ray/session_2022-10-11_20-16-49_834639_13400 is over 95% full, available space: 1449160704; capacity: 29394726912. Object creation will fail if spilling is required.\n",
      "\u001b[2m\u001b[33m(raylet)\u001b[0m [2022-10-12 20:43:08,833 E 24772 24790] (raylet) file_system_monitor.cc:105: /tmp/ray/session_2022-10-11_20-16-49_834639_13400 is over 95% full, available space: 1448067072; capacity: 29394726912. Object creation will fail if spilling is required.\n",
      "\u001b[2m\u001b[33m(raylet)\u001b[0m [2022-10-12 20:43:18,838 E 24772 24790] (raylet) file_system_monitor.cc:105: /tmp/ray/session_2022-10-11_20-16-49_834639_13400 is over 95% full, available space: 1447825408; capacity: 29394726912. Object creation will fail if spilling is required.\n",
      "\u001b[2m\u001b[33m(raylet)\u001b[0m [2022-10-12 20:43:28,843 E 24772 24790] (raylet) file_system_monitor.cc:105: /tmp/ray/session_2022-10-11_20-16-49_834639_13400 is over 95% full, available space: 1446625280; capacity: 29394726912. Object creation will fail if spilling is required.\n",
      "\u001b[2m\u001b[33m(raylet)\u001b[0m [2022-10-12 20:43:38,849 E 24772 24790] (raylet) file_system_monitor.cc:105: /tmp/ray/session_2022-10-11_20-16-49_834639_13400 is over 95% full, available space: 1446391808; capacity: 29394726912. Object creation will fail if spilling is required.\n",
      "\u001b[2m\u001b[33m(raylet)\u001b[0m [2022-10-12 20:43:48,854 E 24772 24790] (raylet) file_system_monitor.cc:105: /tmp/ray/session_2022-10-11_20-16-49_834639_13400 is over 95% full, available space: 1445322752; capacity: 29394726912. Object creation will fail if spilling is required.\n",
      "\u001b[2m\u001b[33m(raylet)\u001b[0m [2022-10-12 20:43:58,859 E 24772 24790] (raylet) file_system_monitor.cc:105: /tmp/ray/session_2022-10-11_20-16-49_834639_13400 is over 95% full, available space: 1444900864; capacity: 29394726912. Object creation will fail if spilling is required.\n",
      "\u001b[2m\u001b[33m(raylet)\u001b[0m [2022-10-12 20:44:08,864 E 24772 24790] (raylet) file_system_monitor.cc:105: /tmp/ray/session_2022-10-11_20-16-49_834639_13400 is over 95% full, available space: 1443913728; capacity: 29394726912. Object creation will fail if spilling is required.\n",
      "\u001b[2m\u001b[33m(raylet)\u001b[0m [2022-10-12 20:44:18,868 E 24772 24790] (raylet) file_system_monitor.cc:105: /tmp/ray/session_2022-10-11_20-16-49_834639_13400 is over 95% full, available space: 1443299328; capacity: 29394726912. Object creation will fail if spilling is required.\n",
      "\u001b[2m\u001b[33m(raylet)\u001b[0m [2022-10-12 20:44:28,872 E 24772 24790] (raylet) file_system_monitor.cc:105: /tmp/ray/session_2022-10-11_20-16-49_834639_13400 is over 95% full, available space: 1442340864; capacity: 29394726912. Object creation will fail if spilling is required.\n",
      "\u001b[2m\u001b[33m(raylet)\u001b[0m [2022-10-12 20:44:38,878 E 24772 24790] (raylet) file_system_monitor.cc:105: /tmp/ray/session_2022-10-11_20-16-49_834639_13400 is over 95% full, available space: 1442037760; capacity: 29394726912. Object creation will fail if spilling is required.\n",
      "\u001b[2m\u001b[33m(raylet)\u001b[0m [2022-10-12 20:44:48,883 E 24772 24790] (raylet) file_system_monitor.cc:105: /tmp/ray/session_2022-10-11_20-16-49_834639_13400 is over 95% full, available space: 1441046528; capacity: 29394726912. Object creation will fail if spilling is required.\n",
      "\u001b[2m\u001b[33m(raylet)\u001b[0m [2022-10-12 20:44:58,887 E 24772 24790] (raylet) file_system_monitor.cc:105: /tmp/ray/session_2022-10-11_20-16-49_834639_13400 is over 95% full, available space: 1440636928; capacity: 29394726912. Object creation will fail if spilling is required.\n"
     ]
    },
    {
     "name": "stderr",
     "output_type": "stream",
     "text": [
      "\u001b[2m\u001b[33m(raylet)\u001b[0m [2022-10-12 20:45:08,892 E 24772 24790] (raylet) file_system_monitor.cc:105: /tmp/ray/session_2022-10-11_20-16-49_834639_13400 is over 95% full, available space: 1439637504; capacity: 29394726912. Object creation will fail if spilling is required.\n",
      "\u001b[2m\u001b[33m(raylet)\u001b[0m [2022-10-12 20:45:18,897 E 24772 24790] (raylet) file_system_monitor.cc:105: /tmp/ray/session_2022-10-11_20-16-49_834639_13400 is over 95% full, available space: 1439105024; capacity: 29394726912. Object creation will fail if spilling is required.\n",
      "\u001b[2m\u001b[33m(raylet)\u001b[0m [2022-10-12 20:45:28,903 E 24772 24790] (raylet) file_system_monitor.cc:105: /tmp/ray/session_2022-10-11_20-16-49_834639_13400 is over 95% full, available space: 1439002624; capacity: 29394726912. Object creation will fail if spilling is required.\n",
      "\u001b[2m\u001b[33m(raylet)\u001b[0m [2022-10-12 20:45:38,910 E 24772 24790] (raylet) file_system_monitor.cc:105: /tmp/ray/session_2022-10-11_20-16-49_834639_13400 is over 95% full, available space: 1438887936; capacity: 29394726912. Object creation will fail if spilling is required.\n",
      "\u001b[2m\u001b[33m(raylet)\u001b[0m [2022-10-12 20:45:48,917 E 24772 24790] (raylet) file_system_monitor.cc:105: /tmp/ray/session_2022-10-11_20-16-49_834639_13400 is over 95% full, available space: 1438801920; capacity: 29394726912. Object creation will fail if spilling is required.\n",
      "\u001b[2m\u001b[33m(raylet)\u001b[0m [2022-10-12 20:45:58,924 E 24772 24790] (raylet) file_system_monitor.cc:105: /tmp/ray/session_2022-10-11_20-16-49_834639_13400 is over 95% full, available space: 1438609408; capacity: 29394726912. Object creation will fail if spilling is required.\n",
      "\u001b[2m\u001b[33m(raylet)\u001b[0m [2022-10-12 20:46:08,932 E 24772 24790] (raylet) file_system_monitor.cc:105: /tmp/ray/session_2022-10-11_20-16-49_834639_13400 is over 95% full, available space: 1438445568; capacity: 29394726912. Object creation will fail if spilling is required.\n",
      "\u001b[2m\u001b[33m(raylet)\u001b[0m [2022-10-12 20:46:18,939 E 24772 24790] (raylet) file_system_monitor.cc:105: /tmp/ray/session_2022-10-11_20-16-49_834639_13400 is over 95% full, available space: 1438146560; capacity: 29394726912. Object creation will fail if spilling is required.\n",
      "\u001b[2m\u001b[33m(raylet)\u001b[0m [2022-10-12 20:46:28,946 E 24772 24790] (raylet) file_system_monitor.cc:105: /tmp/ray/session_2022-10-11_20-16-49_834639_13400 is over 95% full, available space: 1438052352; capacity: 29394726912. Object creation will fail if spilling is required.\n",
      "\u001b[2m\u001b[33m(raylet)\u001b[0m [2022-10-12 20:46:38,953 E 24772 24790] (raylet) file_system_monitor.cc:105: /tmp/ray/session_2022-10-11_20-16-49_834639_13400 is over 95% full, available space: 1437958144; capacity: 29394726912. Object creation will fail if spilling is required.\n",
      "\u001b[2m\u001b[33m(raylet)\u001b[0m [2022-10-12 20:46:48,960 E 24772 24790] (raylet) file_system_monitor.cc:105: /tmp/ray/session_2022-10-11_20-16-49_834639_13400 is over 95% full, available space: 1437863936; capacity: 29394726912. Object creation will fail if spilling is required.\n",
      "\u001b[2m\u001b[33m(raylet)\u001b[0m [2022-10-12 20:46:58,967 E 24772 24790] (raylet) file_system_monitor.cc:105: /tmp/ray/session_2022-10-11_20-16-49_834639_13400 is over 95% full, available space: 1437736960; capacity: 29394726912. Object creation will fail if spilling is required.\n",
      "\u001b[2m\u001b[33m(raylet)\u001b[0m [2022-10-12 20:47:08,974 E 24772 24790] (raylet) file_system_monitor.cc:105: /tmp/ray/session_2022-10-11_20-16-49_834639_13400 is over 95% full, available space: 1437585408; capacity: 29394726912. Object creation will fail if spilling is required.\n",
      "\u001b[2m\u001b[33m(raylet)\u001b[0m [2022-10-12 20:47:18,981 E 24772 24790] (raylet) file_system_monitor.cc:105: /tmp/ray/session_2022-10-11_20-16-49_834639_13400 is over 95% full, available space: 1437478912; capacity: 29394726912. Object creation will fail if spilling is required.\n",
      "\u001b[2m\u001b[33m(raylet)\u001b[0m [2022-10-12 20:47:28,988 E 24772 24790] (raylet) file_system_monitor.cc:105: /tmp/ray/session_2022-10-11_20-16-49_834639_13400 is over 95% full, available space: 1437372416; capacity: 29394726912. Object creation will fail if spilling is required.\n",
      "\u001b[2m\u001b[33m(raylet)\u001b[0m [2022-10-12 20:47:38,995 E 24772 24790] (raylet) file_system_monitor.cc:105: /tmp/ray/session_2022-10-11_20-16-49_834639_13400 is over 95% full, available space: 1437044736; capacity: 29394726912. Object creation will fail if spilling is required.\n",
      "\u001b[2m\u001b[33m(raylet)\u001b[0m [2022-10-12 20:47:49,003 E 24772 24790] (raylet) file_system_monitor.cc:105: /tmp/ray/session_2022-10-11_20-16-49_834639_13400 is over 95% full, available space: 1436950528; capacity: 29394726912. Object creation will fail if spilling is required.\n",
      "\u001b[2m\u001b[33m(raylet)\u001b[0m [2022-10-12 20:47:59,011 E 24772 24790] (raylet) file_system_monitor.cc:105: /tmp/ray/session_2022-10-11_20-16-49_834639_13400 is over 95% full, available space: 1436819456; capacity: 29394726912. Object creation will fail if spilling is required.\n",
      "\u001b[2m\u001b[33m(raylet)\u001b[0m [2022-10-12 20:48:09,017 E 24772 24790] (raylet) file_system_monitor.cc:105: /tmp/ray/session_2022-10-11_20-16-49_834639_13400 is over 95% full, available space: 1436704768; capacity: 29394726912. Object creation will fail if spilling is required.\n",
      "\u001b[2m\u001b[33m(raylet)\u001b[0m [2022-10-12 20:48:19,024 E 24772 24790] (raylet) file_system_monitor.cc:105: /tmp/ray/session_2022-10-11_20-16-49_834639_13400 is over 95% full, available space: 1436577792; capacity: 29394726912. Object creation will fail if spilling is required.\n",
      "\u001b[2m\u001b[33m(raylet)\u001b[0m [2022-10-12 20:48:29,032 E 24772 24790] (raylet) file_system_monitor.cc:105: /tmp/ray/session_2022-10-11_20-16-49_834639_13400 is over 95% full, available space: 1436438528; capacity: 29394726912. Object creation will fail if spilling is required.\n",
      "\u001b[2m\u001b[33m(raylet)\u001b[0m [2022-10-12 20:48:39,040 E 24772 24790] (raylet) file_system_monitor.cc:105: /tmp/ray/session_2022-10-11_20-16-49_834639_13400 is over 95% full, available space: 1436340224; capacity: 29394726912. Object creation will fail if spilling is required.\n",
      "\u001b[2m\u001b[33m(raylet)\u001b[0m [2022-10-12 20:48:49,047 E 24772 24790] (raylet) file_system_monitor.cc:105: /tmp/ray/session_2022-10-11_20-16-49_834639_13400 is over 95% full, available space: 1436258304; capacity: 29394726912. Object creation will fail if spilling is required.\n",
      "\u001b[2m\u001b[33m(raylet)\u001b[0m [2022-10-12 20:48:59,055 E 24772 24790] (raylet) file_system_monitor.cc:105: /tmp/ray/session_2022-10-11_20-16-49_834639_13400 is over 95% full, available space: 1436053504; capacity: 29394726912. Object creation will fail if spilling is required.\n",
      "\u001b[2m\u001b[33m(raylet)\u001b[0m [2022-10-12 20:49:09,062 E 24772 24790] (raylet) file_system_monitor.cc:105: /tmp/ray/session_2022-10-11_20-16-49_834639_13400 is over 95% full, available space: 1435955200; capacity: 29394726912. Object creation will fail if spilling is required.\n",
      "\u001b[2m\u001b[33m(raylet)\u001b[0m [2022-10-12 20:49:19,070 E 24772 24790] (raylet) file_system_monitor.cc:105: /tmp/ray/session_2022-10-11_20-16-49_834639_13400 is over 95% full, available space: 1435832320; capacity: 29394726912. Object creation will fail if spilling is required.\n",
      "\u001b[2m\u001b[33m(raylet)\u001b[0m [2022-10-12 20:49:29,078 E 24772 24790] (raylet) file_system_monitor.cc:105: /tmp/ray/session_2022-10-11_20-16-49_834639_13400 is over 95% full, available space: 1435668480; capacity: 29394726912. Object creation will fail if spilling is required.\n",
      "\u001b[2m\u001b[33m(raylet)\u001b[0m [2022-10-12 20:49:39,086 E 24772 24790] (raylet) file_system_monitor.cc:105: /tmp/ray/session_2022-10-11_20-16-49_834639_13400 is over 95% full, available space: 1435602944; capacity: 29394726912. Object creation will fail if spilling is required.\n",
      "\u001b[2m\u001b[33m(raylet)\u001b[0m [2022-10-12 20:49:49,093 E 24772 24790] (raylet) file_system_monitor.cc:105: /tmp/ray/session_2022-10-11_20-16-49_834639_13400 is over 95% full, available space: 1435488256; capacity: 29394726912. Object creation will fail if spilling is required.\n",
      "\u001b[2m\u001b[33m(raylet)\u001b[0m [2022-10-12 20:49:59,100 E 24772 24790] (raylet) file_system_monitor.cc:105: /tmp/ray/session_2022-10-11_20-16-49_834639_13400 is over 95% full, available space: 1435340800; capacity: 29394726912. Object creation will fail if spilling is required.\n",
      "\u001b[2m\u001b[33m(raylet)\u001b[0m [2022-10-12 20:50:09,108 E 24772 24790] (raylet) file_system_monitor.cc:105: /tmp/ray/session_2022-10-11_20-16-49_834639_13400 is over 95% full, available space: 1435222016; capacity: 29394726912. Object creation will fail if spilling is required.\n"
     ]
    },
    {
     "name": "stderr",
     "output_type": "stream",
     "text": [
      "\u001b[2m\u001b[33m(raylet)\u001b[0m [2022-10-12 20:50:19,116 E 24772 24790] (raylet) file_system_monitor.cc:105: /tmp/ray/session_2022-10-11_20-16-49_834639_13400 is over 95% full, available space: 1435086848; capacity: 29394726912. Object creation will fail if spilling is required.\n",
      "\u001b[2m\u001b[33m(raylet)\u001b[0m [2022-10-12 20:50:29,123 E 24772 24790] (raylet) file_system_monitor.cc:105: /tmp/ray/session_2022-10-11_20-16-49_834639_13400 is over 95% full, available space: 1435004928; capacity: 29394726912. Object creation will fail if spilling is required.\n",
      "\u001b[2m\u001b[33m(raylet)\u001b[0m [2022-10-12 20:50:39,131 E 24772 24790] (raylet) file_system_monitor.cc:105: /tmp/ray/session_2022-10-11_20-16-49_834639_13400 is over 95% full, available space: 1434914816; capacity: 29394726912. Object creation will fail if spilling is required.\n",
      "\u001b[2m\u001b[33m(raylet)\u001b[0m [2022-10-12 20:50:49,138 E 24772 24790] (raylet) file_system_monitor.cc:105: /tmp/ray/session_2022-10-11_20-16-49_834639_13400 is over 95% full, available space: 1434832896; capacity: 29394726912. Object creation will fail if spilling is required.\n",
      "\u001b[2m\u001b[33m(raylet)\u001b[0m [2022-10-12 20:50:59,144 E 24772 24790] (raylet) file_system_monitor.cc:105: /tmp/ray/session_2022-10-11_20-16-49_834639_13400 is over 95% full, available space: 1434619904; capacity: 29394726912. Object creation will fail if spilling is required.\n",
      "\u001b[2m\u001b[33m(raylet)\u001b[0m [2022-10-12 20:51:09,152 E 24772 24790] (raylet) file_system_monitor.cc:105: /tmp/ray/session_2022-10-11_20-16-49_834639_13400 is over 95% full, available space: 1434509312; capacity: 29394726912. Object creation will fail if spilling is required.\n",
      "\u001b[2m\u001b[33m(raylet)\u001b[0m [2022-10-12 20:51:19,159 E 24772 24790] (raylet) file_system_monitor.cc:105: /tmp/ray/session_2022-10-11_20-16-49_834639_13400 is over 95% full, available space: 1434345472; capacity: 29394726912. Object creation will fail if spilling is required.\n",
      "\u001b[2m\u001b[33m(raylet)\u001b[0m [2022-10-12 20:51:29,166 E 24772 24790] (raylet) file_system_monitor.cc:105: /tmp/ray/session_2022-10-11_20-16-49_834639_13400 is over 95% full, available space: 1434255360; capacity: 29394726912. Object creation will fail if spilling is required.\n",
      "\u001b[2m\u001b[33m(raylet)\u001b[0m [2022-10-12 20:51:39,173 E 24772 24790] (raylet) file_system_monitor.cc:105: /tmp/ray/session_2022-10-11_20-16-49_834639_13400 is over 95% full, available space: 1434185728; capacity: 29394726912. Object creation will fail if spilling is required.\n",
      "\u001b[2m\u001b[33m(raylet)\u001b[0m [2022-10-12 20:51:49,181 E 24772 24790] (raylet) file_system_monitor.cc:105: /tmp/ray/session_2022-10-11_20-16-49_834639_13400 is over 95% full, available space: 1434079232; capacity: 29394726912. Object creation will fail if spilling is required.\n",
      "\u001b[2m\u001b[33m(raylet)\u001b[0m [2022-10-12 20:51:59,188 E 24772 24790] (raylet) file_system_monitor.cc:105: /tmp/ray/session_2022-10-11_20-16-49_834639_13400 is over 95% full, available space: 1433903104; capacity: 29394726912. Object creation will fail if spilling is required.\n",
      "\u001b[2m\u001b[33m(raylet)\u001b[0m [2022-10-12 20:52:09,196 E 24772 24790] (raylet) file_system_monitor.cc:105: /tmp/ray/session_2022-10-11_20-16-49_834639_13400 is over 95% full, available space: 1433759744; capacity: 29394726912. Object creation will fail if spilling is required.\n",
      "\u001b[2m\u001b[33m(raylet)\u001b[0m [2022-10-12 20:52:19,203 E 24772 24790] (raylet) file_system_monitor.cc:105: /tmp/ray/session_2022-10-11_20-16-49_834639_13400 is over 95% full, available space: 1433636864; capacity: 29394726912. Object creation will fail if spilling is required.\n",
      "\u001b[2m\u001b[33m(raylet)\u001b[0m [2022-10-12 20:52:29,210 E 24772 24790] (raylet) file_system_monitor.cc:105: /tmp/ray/session_2022-10-11_20-16-49_834639_13400 is over 95% full, available space: 1433518080; capacity: 29394726912. Object creation will fail if spilling is required.\n",
      "\u001b[2m\u001b[33m(raylet)\u001b[0m [2022-10-12 20:52:39,218 E 24772 24790] (raylet) file_system_monitor.cc:105: /tmp/ray/session_2022-10-11_20-16-49_834639_13400 is over 95% full, available space: 1433432064; capacity: 29394726912. Object creation will fail if spilling is required.\n",
      "\u001b[2m\u001b[33m(raylet)\u001b[0m [2022-10-12 20:52:49,225 E 24772 24790] (raylet) file_system_monitor.cc:105: /tmp/ray/session_2022-10-11_20-16-49_834639_13400 is over 95% full, available space: 1433321472; capacity: 29394726912. Object creation will fail if spilling is required.\n",
      "\u001b[2m\u001b[33m(raylet)\u001b[0m [2022-10-12 20:52:59,232 E 24772 24790] (raylet) file_system_monitor.cc:105: /tmp/ray/session_2022-10-11_20-16-49_834639_13400 is over 95% full, available space: 1433137152; capacity: 29394726912. Object creation will fail if spilling is required.\n",
      "\u001b[2m\u001b[33m(raylet)\u001b[0m [2022-10-12 20:53:09,238 E 24772 24790] (raylet) file_system_monitor.cc:105: /tmp/ray/session_2022-10-11_20-16-49_834639_13400 is over 95% full, available space: 1433038848; capacity: 29394726912. Object creation will fail if spilling is required.\n",
      "\u001b[2m\u001b[33m(raylet)\u001b[0m [2022-10-12 20:53:19,245 E 24772 24790] (raylet) file_system_monitor.cc:105: /tmp/ray/session_2022-10-11_20-16-49_834639_13400 is over 95% full, available space: 1432891392; capacity: 29394726912. Object creation will fail if spilling is required.\n",
      "\u001b[2m\u001b[33m(raylet)\u001b[0m [2022-10-12 20:53:29,252 E 24772 24790] (raylet) file_system_monitor.cc:105: /tmp/ray/session_2022-10-11_20-16-49_834639_13400 is over 95% full, available space: 1432801280; capacity: 29394726912. Object creation will fail if spilling is required.\n",
      "\u001b[2m\u001b[33m(raylet)\u001b[0m [2022-10-12 20:53:39,259 E 24772 24790] (raylet) file_system_monitor.cc:105: /tmp/ray/session_2022-10-11_20-16-49_834639_13400 is over 95% full, available space: 1432694784; capacity: 29394726912. Object creation will fail if spilling is required.\n",
      "\u001b[2m\u001b[33m(raylet)\u001b[0m [2022-10-12 20:53:49,266 E 24772 24790] (raylet) file_system_monitor.cc:105: /tmp/ray/session_2022-10-11_20-16-49_834639_13400 is over 95% full, available space: 1432592384; capacity: 29394726912. Object creation will fail if spilling is required.\n",
      "\u001b[2m\u001b[33m(raylet)\u001b[0m [2022-10-12 20:53:59,274 E 24772 24790] (raylet) file_system_monitor.cc:105: /tmp/ray/session_2022-10-11_20-16-49_834639_13400 is over 95% full, available space: 1432334336; capacity: 29394726912. Object creation will fail if spilling is required.\n",
      "\u001b[2m\u001b[33m(raylet)\u001b[0m [2022-10-12 20:54:09,280 E 24772 24790] (raylet) file_system_monitor.cc:105: /tmp/ray/session_2022-10-11_20-16-49_834639_13400 is over 95% full, available space: 1432211456; capacity: 29394726912. Object creation will fail if spilling is required.\n",
      "\u001b[2m\u001b[33m(raylet)\u001b[0m [2022-10-12 20:54:19,287 E 24772 24790] (raylet) file_system_monitor.cc:105: /tmp/ray/session_2022-10-11_20-16-49_834639_13400 is over 95% full, available space: 1432076288; capacity: 29394726912. Object creation will fail if spilling is required.\n",
      "\u001b[2m\u001b[33m(raylet)\u001b[0m [2022-10-12 20:54:29,294 E 24772 24790] (raylet) file_system_monitor.cc:105: /tmp/ray/session_2022-10-11_20-16-49_834639_13400 is over 95% full, available space: 1431957504; capacity: 29394726912. Object creation will fail if spilling is required.\n",
      "\u001b[2m\u001b[33m(raylet)\u001b[0m [2022-10-12 20:54:39,301 E 24772 24790] (raylet) file_system_monitor.cc:105: /tmp/ray/session_2022-10-11_20-16-49_834639_13400 is over 95% full, available space: 1431875584; capacity: 29394726912. Object creation will fail if spilling is required.\n",
      "\u001b[2m\u001b[33m(raylet)\u001b[0m [2022-10-12 20:54:49,308 E 24772 24790] (raylet) file_system_monitor.cc:105: /tmp/ray/session_2022-10-11_20-16-49_834639_13400 is over 95% full, available space: 1431760896; capacity: 29394726912. Object creation will fail if spilling is required.\n",
      "\u001b[2m\u001b[33m(raylet)\u001b[0m [2022-10-12 20:54:59,316 E 24772 24790] (raylet) file_system_monitor.cc:105: /tmp/ray/session_2022-10-11_20-16-49_834639_13400 is over 95% full, available space: 1431568384; capacity: 29394726912. Object creation will fail if spilling is required.\n",
      "\u001b[2m\u001b[33m(raylet)\u001b[0m [2022-10-12 20:55:09,323 E 24772 24790] (raylet) file_system_monitor.cc:105: /tmp/ray/session_2022-10-11_20-16-49_834639_13400 is over 95% full, available space: 1431449600; capacity: 29394726912. Object creation will fail if spilling is required.\n",
      "\u001b[2m\u001b[33m(raylet)\u001b[0m [2022-10-12 20:55:19,331 E 24772 24790] (raylet) file_system_monitor.cc:105: /tmp/ray/session_2022-10-11_20-16-49_834639_13400 is over 95% full, available space: 1431310336; capacity: 29394726912. Object creation will fail if spilling is required.\n"
     ]
    },
    {
     "name": "stderr",
     "output_type": "stream",
     "text": [
      "\u001b[2m\u001b[33m(raylet)\u001b[0m [2022-10-12 20:55:29,338 E 24772 24790] (raylet) file_system_monitor.cc:105: /tmp/ray/session_2022-10-11_20-16-49_834639_13400 is over 95% full, available space: 1431199744; capacity: 29394726912. Object creation will fail if spilling is required.\n",
      "\u001b[2m\u001b[33m(raylet)\u001b[0m [2022-10-12 20:55:39,346 E 24772 24790] (raylet) file_system_monitor.cc:105: /tmp/ray/session_2022-10-11_20-16-49_834639_13400 is over 95% full, available space: 1431097344; capacity: 29394726912. Object creation will fail if spilling is required.\n",
      "\u001b[2m\u001b[33m(raylet)\u001b[0m [2022-10-12 20:55:49,352 E 24772 24790] (raylet) file_system_monitor.cc:105: /tmp/ray/session_2022-10-11_20-16-49_834639_13400 is over 95% full, available space: 1430994944; capacity: 29394726912. Object creation will fail if spilling is required.\n",
      "\u001b[2m\u001b[33m(raylet)\u001b[0m [2022-10-12 20:55:59,360 E 24772 24790] (raylet) file_system_monitor.cc:105: /tmp/ray/session_2022-10-11_20-16-49_834639_13400 is over 95% full, available space: 1430753280; capacity: 29394726912. Object creation will fail if spilling is required.\n",
      "\u001b[2m\u001b[33m(raylet)\u001b[0m [2022-10-12 20:56:09,367 E 24772 24790] (raylet) file_system_monitor.cc:105: /tmp/ray/session_2022-10-11_20-16-49_834639_13400 is over 95% full, available space: 1430650880; capacity: 29394726912. Object creation will fail if spilling is required.\n",
      "\u001b[2m\u001b[33m(raylet)\u001b[0m [2022-10-12 20:56:19,374 E 24772 24790] (raylet) file_system_monitor.cc:105: /tmp/ray/session_2022-10-11_20-16-49_834639_13400 is over 95% full, available space: 1430511616; capacity: 29394726912. Object creation will fail if spilling is required.\n",
      "\u001b[2m\u001b[33m(raylet)\u001b[0m [2022-10-12 20:56:29,381 E 24772 24790] (raylet) file_system_monitor.cc:105: /tmp/ray/session_2022-10-11_20-16-49_834639_13400 is over 95% full, available space: 1430413312; capacity: 29394726912. Object creation will fail if spilling is required.\n",
      "\u001b[2m\u001b[33m(raylet)\u001b[0m [2022-10-12 20:56:39,407 E 24772 24790] (raylet) file_system_monitor.cc:105: /tmp/ray/session_2022-10-11_20-16-49_834639_13400 is over 95% full, available space: 1430278144; capacity: 29394726912. Object creation will fail if spilling is required.\n",
      "\u001b[2m\u001b[33m(raylet)\u001b[0m [2022-10-12 20:56:49,415 E 24772 24790] (raylet) file_system_monitor.cc:105: /tmp/ray/session_2022-10-11_20-16-49_834639_13400 is over 95% full, available space: 1430163456; capacity: 29394726912. Object creation will fail if spilling is required.\n",
      "\u001b[2m\u001b[33m(raylet)\u001b[0m [2022-10-12 20:56:59,421 E 24772 24790] (raylet) file_system_monitor.cc:105: /tmp/ray/session_2022-10-11_20-16-49_834639_13400 is over 95% full, available space: 1429954560; capacity: 29394726912. Object creation will fail if spilling is required.\n",
      "\u001b[2m\u001b[33m(raylet)\u001b[0m [2022-10-12 20:57:09,429 E 24772 24790] (raylet) file_system_monitor.cc:105: /tmp/ray/session_2022-10-11_20-16-49_834639_13400 is over 95% full, available space: 1429843968; capacity: 29394726912. Object creation will fail if spilling is required.\n",
      "\u001b[2m\u001b[33m(raylet)\u001b[0m [2022-10-12 20:57:19,435 E 24772 24790] (raylet) file_system_monitor.cc:105: /tmp/ray/session_2022-10-11_20-16-49_834639_13400 is over 95% full, available space: 1429716992; capacity: 29394726912. Object creation will fail if spilling is required.\n",
      "\u001b[2m\u001b[33m(raylet)\u001b[0m [2022-10-12 20:57:29,442 E 24772 24790] (raylet) file_system_monitor.cc:105: /tmp/ray/session_2022-10-11_20-16-49_834639_13400 is over 95% full, available space: 1429602304; capacity: 29394726912. Object creation will fail if spilling is required.\n",
      "\u001b[2m\u001b[33m(raylet)\u001b[0m [2022-10-12 20:57:39,449 E 24772 24790] (raylet) file_system_monitor.cc:105: /tmp/ray/session_2022-10-11_20-16-49_834639_13400 is over 95% full, available space: 1429508096; capacity: 29394726912. Object creation will fail if spilling is required.\n",
      "\u001b[2m\u001b[33m(raylet)\u001b[0m [2022-10-12 20:57:49,457 E 24772 24790] (raylet) file_system_monitor.cc:105: /tmp/ray/session_2022-10-11_20-16-49_834639_13400 is over 95% full, available space: 1429409792; capacity: 29394726912. Object creation will fail if spilling is required.\n",
      "\u001b[2m\u001b[33m(raylet)\u001b[0m [2022-10-12 20:57:59,464 E 24772 24790] (raylet) file_system_monitor.cc:105: /tmp/ray/session_2022-10-11_20-16-49_834639_13400 is over 95% full, available space: 1429233664; capacity: 29394726912. Object creation will fail if spilling is required.\n",
      "\u001b[2m\u001b[33m(raylet)\u001b[0m [2022-10-12 20:58:09,471 E 24772 24790] (raylet) file_system_monitor.cc:105: /tmp/ray/session_2022-10-11_20-16-49_834639_13400 is over 95% full, available space: 1429131264; capacity: 29394726912. Object creation will fail if spilling is required.\n",
      "\u001b[2m\u001b[33m(raylet)\u001b[0m [2022-10-12 20:58:19,478 E 24772 24790] (raylet) file_system_monitor.cc:105: /tmp/ray/session_2022-10-11_20-16-49_834639_13400 is over 95% full, available space: 1428996096; capacity: 29394726912. Object creation will fail if spilling is required.\n",
      "\u001b[2m\u001b[33m(raylet)\u001b[0m [2022-10-12 20:58:29,484 E 24772 24790] (raylet) file_system_monitor.cc:105: /tmp/ray/session_2022-10-11_20-16-49_834639_13400 is over 95% full, available space: 1428881408; capacity: 29394726912. Object creation will fail if spilling is required.\n",
      "\u001b[2m\u001b[33m(raylet)\u001b[0m [2022-10-12 20:58:39,492 E 24772 24790] (raylet) file_system_monitor.cc:105: /tmp/ray/session_2022-10-11_20-16-49_834639_13400 is over 95% full, available space: 1428791296; capacity: 29394726912. Object creation will fail if spilling is required.\n",
      "\u001b[2m\u001b[33m(raylet)\u001b[0m [2022-10-12 20:58:49,499 E 24772 24790] (raylet) file_system_monitor.cc:105: /tmp/ray/session_2022-10-11_20-16-49_834639_13400 is over 95% full, available space: 1428692992; capacity: 29394726912. Object creation will fail if spilling is required.\n",
      "\u001b[2m\u001b[33m(raylet)\u001b[0m [2022-10-12 20:58:59,506 E 24772 24790] (raylet) file_system_monitor.cc:105: /tmp/ray/session_2022-10-11_20-16-49_834639_13400 is over 95% full, available space: 1428451328; capacity: 29394726912. Object creation will fail if spilling is required.\n",
      "\u001b[2m\u001b[33m(raylet)\u001b[0m [2022-10-12 20:59:09,512 E 24772 24790] (raylet) file_system_monitor.cc:105: /tmp/ray/session_2022-10-11_20-16-49_834639_13400 is over 95% full, available space: 1428369408; capacity: 29394726912. Object creation will fail if spilling is required.\n",
      "\u001b[2m\u001b[33m(raylet)\u001b[0m [2022-10-12 20:59:19,518 E 24772 24790] (raylet) file_system_monitor.cc:105: /tmp/ray/session_2022-10-11_20-16-49_834639_13400 is over 95% full, available space: 1428205568; capacity: 29394726912. Object creation will fail if spilling is required.\n",
      "\u001b[2m\u001b[33m(raylet)\u001b[0m [2022-10-12 20:59:29,524 E 24772 24790] (raylet) file_system_monitor.cc:105: /tmp/ray/session_2022-10-11_20-16-49_834639_13400 is over 95% full, available space: 1428078592; capacity: 29394726912. Object creation will fail if spilling is required.\n",
      "\u001b[2m\u001b[33m(raylet)\u001b[0m [2022-10-12 20:59:39,530 E 24772 24790] (raylet) file_system_monitor.cc:105: /tmp/ray/session_2022-10-11_20-16-49_834639_13400 is over 95% full, available space: 1427959808; capacity: 29394726912. Object creation will fail if spilling is required.\n",
      "\u001b[2m\u001b[33m(raylet)\u001b[0m [2022-10-12 20:59:49,537 E 24772 24790] (raylet) file_system_monitor.cc:105: /tmp/ray/session_2022-10-11_20-16-49_834639_13400 is over 95% full, available space: 1427853312; capacity: 29394726912. Object creation will fail if spilling is required.\n",
      "\u001b[2m\u001b[33m(raylet)\u001b[0m [2022-10-12 20:59:59,544 E 24772 24790] (raylet) file_system_monitor.cc:105: /tmp/ray/session_2022-10-11_20-16-49_834639_13400 is over 95% full, available space: 1427640320; capacity: 29394726912. Object creation will fail if spilling is required.\n",
      "\u001b[2m\u001b[33m(raylet)\u001b[0m [2022-10-12 21:00:09,552 E 24772 24790] (raylet) file_system_monitor.cc:105: /tmp/ray/session_2022-10-11_20-16-49_834639_13400 is over 95% full, available space: 1427529728; capacity: 29394726912. Object creation will fail if spilling is required.\n",
      "\u001b[2m\u001b[33m(raylet)\u001b[0m [2022-10-12 21:00:19,558 E 24772 24790] (raylet) file_system_monitor.cc:105: /tmp/ray/session_2022-10-11_20-16-49_834639_13400 is over 95% full, available space: 1427398656; capacity: 29394726912. Object creation will fail if spilling is required.\n",
      "\u001b[2m\u001b[33m(raylet)\u001b[0m [2022-10-12 21:00:29,565 E 24772 24790] (raylet) file_system_monitor.cc:105: /tmp/ray/session_2022-10-11_20-16-49_834639_13400 is over 95% full, available space: 1427296256; capacity: 29394726912. Object creation will fail if spilling is required.\n"
     ]
    },
    {
     "name": "stderr",
     "output_type": "stream",
     "text": [
      "\u001b[2m\u001b[33m(raylet)\u001b[0m [2022-10-12 21:00:39,572 E 24772 24790] (raylet) file_system_monitor.cc:105: /tmp/ray/session_2022-10-11_20-16-49_834639_13400 is over 95% full, available space: 1427189760; capacity: 29394726912. Object creation will fail if spilling is required.\n",
      "\u001b[2m\u001b[33m(raylet)\u001b[0m [2022-10-12 21:00:49,579 E 24772 24790] (raylet) file_system_monitor.cc:105: /tmp/ray/session_2022-10-11_20-16-49_834639_13400 is over 95% full, available space: 1427091456; capacity: 29394726912. Object creation will fail if spilling is required.\n",
      "\u001b[2m\u001b[33m(raylet)\u001b[0m [2022-10-12 21:00:59,586 E 24772 24790] (raylet) file_system_monitor.cc:105: /tmp/ray/session_2022-10-11_20-16-49_834639_13400 is over 95% full, available space: 1426853888; capacity: 29394726912. Object creation will fail if spilling is required.\n",
      "\u001b[2m\u001b[33m(raylet)\u001b[0m [2022-10-12 21:01:09,593 E 24772 24790] (raylet) file_system_monitor.cc:105: /tmp/ray/session_2022-10-11_20-16-49_834639_13400 is over 95% full, available space: 1426776064; capacity: 29394726912. Object creation will fail if spilling is required.\n",
      "\u001b[2m\u001b[33m(raylet)\u001b[0m [2022-10-12 21:01:19,599 E 24772 24790] (raylet) file_system_monitor.cc:105: /tmp/ray/session_2022-10-11_20-16-49_834639_13400 is over 95% full, available space: 1426612224; capacity: 29394726912. Object creation will fail if spilling is required.\n",
      "\u001b[2m\u001b[33m(raylet)\u001b[0m [2022-10-12 21:01:29,606 E 24772 24790] (raylet) file_system_monitor.cc:105: /tmp/ray/session_2022-10-11_20-16-49_834639_13400 is over 95% full, available space: 1426501632; capacity: 29394726912. Object creation will fail if spilling is required.\n",
      "\u001b[2m\u001b[33m(raylet)\u001b[0m [2022-10-12 21:01:39,613 E 24772 24790] (raylet) file_system_monitor.cc:105: /tmp/ray/session_2022-10-11_20-16-49_834639_13400 is over 95% full, available space: 1426423808; capacity: 29394726912. Object creation will fail if spilling is required.\n",
      "\u001b[2m\u001b[33m(raylet)\u001b[0m [2022-10-12 21:01:49,620 E 24772 24790] (raylet) file_system_monitor.cc:105: /tmp/ray/session_2022-10-11_20-16-49_834639_13400 is over 95% full, available space: 1426300928; capacity: 29394726912. Object creation will fail if spilling is required.\n",
      "\u001b[2m\u001b[33m(raylet)\u001b[0m [2022-10-12 21:01:59,626 E 24772 24790] (raylet) file_system_monitor.cc:105: /tmp/ray/session_2022-10-11_20-16-49_834639_13400 is over 95% full, available space: 1426116608; capacity: 29394726912. Object creation will fail if spilling is required.\n",
      "\u001b[2m\u001b[33m(raylet)\u001b[0m [2022-10-12 21:02:09,633 E 24772 24790] (raylet) file_system_monitor.cc:105: /tmp/ray/session_2022-10-11_20-16-49_834639_13400 is over 95% full, available space: 1425977344; capacity: 29394726912. Object creation will fail if spilling is required.\n",
      "\u001b[2m\u001b[33m(raylet)\u001b[0m [2022-10-12 21:02:19,640 E 24772 24790] (raylet) file_system_monitor.cc:105: /tmp/ray/session_2022-10-11_20-16-49_834639_13400 is over 95% full, available space: 1425854464; capacity: 29394726912. Object creation will fail if spilling is required.\n",
      "\u001b[2m\u001b[33m(raylet)\u001b[0m [2022-10-12 21:02:29,646 E 24772 24790] (raylet) file_system_monitor.cc:105: /tmp/ray/session_2022-10-11_20-16-49_834639_13400 is over 95% full, available space: 1425707008; capacity: 29394726912. Object creation will fail if spilling is required.\n",
      "\u001b[2m\u001b[33m(raylet)\u001b[0m [2022-10-12 21:02:39,652 E 24772 24790] (raylet) file_system_monitor.cc:105: /tmp/ray/session_2022-10-11_20-16-49_834639_13400 is over 95% full, available space: 1425620992; capacity: 29394726912. Object creation will fail if spilling is required.\n",
      "\u001b[2m\u001b[33m(raylet)\u001b[0m [2022-10-12 21:02:49,659 E 24772 24790] (raylet) file_system_monitor.cc:105: /tmp/ray/session_2022-10-11_20-16-49_834639_13400 is over 95% full, available space: 1425506304; capacity: 29394726912. Object creation will fail if spilling is required.\n",
      "\u001b[2m\u001b[33m(raylet)\u001b[0m [2022-10-12 21:02:59,666 E 24772 24790] (raylet) file_system_monitor.cc:105: /tmp/ray/session_2022-10-11_20-16-49_834639_13400 is over 95% full, available space: 1425346560; capacity: 29394726912. Object creation will fail if spilling is required.\n",
      "\u001b[2m\u001b[33m(raylet)\u001b[0m [2022-10-12 21:03:09,674 E 24772 24790] (raylet) file_system_monitor.cc:105: /tmp/ray/session_2022-10-11_20-16-49_834639_13400 is over 95% full, available space: 1425223680; capacity: 29394726912. Object creation will fail if spilling is required.\n",
      "\u001b[2m\u001b[33m(raylet)\u001b[0m [2022-10-12 21:03:19,680 E 24772 24790] (raylet) file_system_monitor.cc:105: /tmp/ray/session_2022-10-11_20-16-49_834639_13400 is over 95% full, available space: 1425088512; capacity: 29394726912. Object creation will fail if spilling is required.\n"
     ]
    }
   ],
   "source": [
    "index=np.nonzero(model_1_weight)[1]\n",
    "beta=np.array(beta_1)\n",
    "trueindex=np.where(beta!=0)[0]\n",
    "trueindex=trueindex.tolist()\n",
    "trueindex=set(trueindex)\n",
    "TP=len(trueindex.intersection(index))\n",
    "FP=len(np.setdiff1d(index,trueindex))\n",
    "FN=len(trueindex)-TP\n",
    "TN=p-len(trueindex)-FP\n",
    "vsSEN=TP/(TP+FN)#vsSEN.\n",
    "vsSPE=TN/(TN+FP)#vsSPE\n",
    "vsSEN\n",
    "vsSPE\n",
    "math.sqrt(vsSEN*vsSPE)#vsGM\n",
    "vsMR=(FP+FN)/(TP+FN+TN+FP)#vsMR\n",
    "1-vsMR#vsCCR"
   ]
  },
  {
   "cell_type": "code",
   "execution_count": null,
   "id": "92f0c4e1",
   "metadata": {},
   "outputs": [],
   "source": []
  },
  {
   "cell_type": "code",
   "execution_count": null,
   "id": "adb8fdd0",
   "metadata": {},
   "outputs": [],
   "source": []
  }
 ],
 "metadata": {
  "kernelspec": {
   "display_name": "Python 3 (ipykernel)",
   "language": "python",
   "name": "python3"
  },
  "language_info": {
   "codemirror_mode": {
    "name": "ipython",
    "version": 3
   },
   "file_extension": ".py",
   "mimetype": "text/x-python",
   "name": "python",
   "nbconvert_exporter": "python",
   "pygments_lexer": "ipython3",
   "version": "3.10.4"
  }
 },
 "nbformat": 4,
 "nbformat_minor": 5
}
