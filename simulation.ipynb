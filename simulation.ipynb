{
 "cells": [
  {
   "cell_type": "code",
   "execution_count": 1,
   "id": "0d60e5db",
   "metadata": {},
   "outputs": [],
   "source": [
    "import torch\n",
    "torch.set_default_tensor_type(torch.FloatTensor)\n",
    "from torch.autograd import Variable\n",
    "from torch.nn import functional as F\n",
    "from torchmetrics import Accuracy, Recall, Precision, Specificity, ConfusionMatrix\n",
    "from sklearn.model_selection import train_test_split\n",
    "from sklearn.model_selection import KFold\n",
    "from sklearn.metrics import confusion_matrix\n",
    "\n",
    "from sklearn.metrics import precision_recall_curve, average_precision_score,roc_curve, auc, precision_score, recall_score, f1_score, confusion_matrix, accuracy_score\n",
    "\n",
    "import numpy as np\n",
    "from IPython.core.interactiveshell import InteractiveShell\n",
    "InteractiveShell.ast_node_interactivity = \"all\"\n",
    "\n",
    "import matplotlib.pyplot as plt\n",
    "from collections import Counter\n",
    "import random\n",
    "import math\n",
    "import torch.optim as optim\n",
    "from tabulate import tabulate\n",
    "from ray import tune\n",
    "\n",
    "from fractions import Fraction\n",
    "\n",
    "import models\n",
    "import data_generation\n",
    "import evaluation\n",
    "\n",
    "import os\n",
    "\n",
    "# import ray\n",
    "# ray.init(num_cpus=30)\n"
   ]
  },
  {
   "cell_type": "code",
   "execution_count": 2,
   "id": "058720da",
   "metadata": {},
   "outputs": [],
   "source": [
    "beta_1=np.append(np.array([4,4,-8,-4,6,-4,8,4,-6,-8]),np.zeros(90))\n",
    "beta_2=np.append(np.array([-2,2,4,-2,3,2,-4,-2,-3,4]),np.zeros(90))\n",
    "beta_3=np.append(np.array([-3,-3,6,-3,-4.5,3,-6,-3,4.5,6]),np.zeros(90))\n",
    "\n",
    "beta_1=beta_1.reshape(-1,1)\n",
    "beta_2=beta_2.reshape(-1,1)\n",
    "beta_3=beta_3.reshape(-1,1)"
   ]
  },
  {
   "cell_type": "code",
   "execution_count": 3,
   "id": "15eda7ee",
   "metadata": {},
   "outputs": [],
   "source": [
    "n1=200\n",
    "n2=200\n",
    "n3=200\n",
    "p=100\n",
    "corval=0\n",
    "prior=[0,1,2,3,4]"
   ]
  },
  {
   "cell_type": "code",
   "execution_count": 4,
   "id": "18020f1d",
   "metadata": {},
   "outputs": [],
   "source": [
    "vs = np.zeros((1,100))"
   ]
  },
  {
   "cell_type": "code",
   "execution_count": 5,
   "id": "8a803519",
   "metadata": {},
   "outputs": [
    {
     "name": "stderr",
     "output_type": "stream",
     "text": [
      "2022-11-30 14:38:05,519\tINFO worker.py:1509 -- Started a local Ray instance. View the dashboard at \u001b[1m\u001b[32m127.0.0.1:8265 \u001b[39m\u001b[22m\n",
      "2022-11-30 14:38:06,499\tWARNING function_trainable.py:619 -- Function checkpointing is disabled. This may result in unexpected behavior when using checkpointing features or certain schedulers. To enable, set the train function arguments to be `func(config, checkpoint_dir=None)`.\n"
     ]
    },
    {
     "data": {
      "text/html": [
       "== Status ==<br>Current time: 2022-11-30 14:38:16 (running for 00:00:09.97)<br>Memory usage on this node: 8.7/1133.4 GiB<br>Using FIFO scheduling algorithm.<br>Resources requested: 0/32 CPUs, 0/1 GPUs, 0.0/936.22 GiB heap, 0.0/186.26 GiB objects (0.0/1.0 accelerator_type:V100)<br>Result logdir: /home/rd/ray_results/train_model_main_prior_2022-11-30_14-38-06<br>Number of trials: 1/1 (1 TERMINATED)<br><table>\n",
       "<thead>\n",
       "<tr><th>Trial name                        </th><th>status    </th><th>loc              </th><th style=\"text-align: right;\">  ga</th><th style=\"text-align: right;\">  lambda1</th><th style=\"text-align: right;\">  lambda2</th><th style=\"text-align: right;\">  lr</th><th style=\"text-align: right;\">  iter</th><th style=\"text-align: right;\">  total time (s)</th><th style=\"text-align: right;\">  my_test_BCE_loss</th></tr>\n",
       "</thead>\n",
       "<tbody>\n",
       "<tr><td>train_model_main_prior_8c450_00000</td><td>TERMINATED</td><td>10.224.0.12:11286</td><td style=\"text-align: right;\"> 0.3</td><td style=\"text-align: right;\">     0.03</td><td style=\"text-align: right;\">    0.003</td><td style=\"text-align: right;\"> 0.8</td><td style=\"text-align: right;\">     1</td><td style=\"text-align: right;\">          7.5794</td><td style=\"text-align: right;\">           1.34117</td></tr>\n",
       "</tbody>\n",
       "</table><br><br>"
      ],
      "text/plain": [
       "<IPython.core.display.HTML object>"
      ]
     },
     "metadata": {},
     "output_type": "display_data"
    },
    {
     "name": "stderr",
     "output_type": "stream",
     "text": [
      "\u001b[2m\u001b[33m(raylet)\u001b[0m [2022-11-30 14:38:15,403 E 10376 10394] (raylet) file_system_monitor.cc:105: /tmp/ray/session_2022-11-30_14-38-03_471414_10262 is over 95% full, available space: 265498624; capacity: 29394726912. Object creation will fail if spilling is required.\n"
     ]
    },
    {
     "name": "stdout",
     "output_type": "stream",
     "text": [
      "Result for train_model_main_prior_8c450_00000:\n",
      "  date: 2022-11-30_14-38-16\n",
      "  done: false\n",
      "  experiment_id: 3b3a54cfd850477298bfa1026540ccf5\n",
      "  hostname: rd-PowerEdge-R940xa\n",
      "  iterations_since_restore: 1\n",
      "  my_test_BCE_loss: 1.3411664724349976\n",
      "  node_ip: 10.224.0.12\n",
      "  pid: 11286\n",
      "  time_since_restore: 7.579400539398193\n",
      "  time_this_iter_s: 7.579400539398193\n",
      "  time_total_s: 7.579400539398193\n",
      "  timestamp: 1669790296\n",
      "  timesteps_since_restore: 0\n",
      "  training_iteration: 1\n",
      "  trial_id: 8c450_00000\n",
      "  warmup_time: 0.006536722183227539\n",
      "  \n",
      "Result for train_model_main_prior_8c450_00000:\n",
      "  date: 2022-11-30_14-38-16\n",
      "  done: true\n",
      "  experiment_id: 3b3a54cfd850477298bfa1026540ccf5\n",
      "  experiment_tag: 0_ga=0.3000,lambda1=0.0300,lambda2=0.0030,lr=0.8000\n",
      "  hostname: rd-PowerEdge-R940xa\n",
      "  iterations_since_restore: 1\n",
      "  my_test_BCE_loss: 1.3411664724349976\n",
      "  node_ip: 10.224.0.12\n",
      "  pid: 11286\n",
      "  time_since_restore: 7.579400539398193\n",
      "  time_this_iter_s: 7.579400539398193\n",
      "  time_total_s: 7.579400539398193\n",
      "  timestamp: 1669790296\n",
      "  timesteps_since_restore: 0\n",
      "  training_iteration: 1\n",
      "  trial_id: 8c450_00000\n",
      "  warmup_time: 0.006536722183227539\n",
      "  \n"
     ]
    },
    {
     "name": "stderr",
     "output_type": "stream",
     "text": [
      "2022-11-30 14:38:16,602\tINFO tune.py:758 -- Total run time: 10.11 seconds (9.94 seconds for the tuning loop).\n"
     ]
    },
    {
     "data": {
      "text/html": [
       "== Status ==<br>Current time: 2022-11-30 14:38:29 (running for 00:00:11.20)<br>Memory usage on this node: 8.7/1133.4 GiB<br>Using FIFO scheduling algorithm.<br>Resources requested: 0/32 CPUs, 0/1 GPUs, 0.0/936.22 GiB heap, 0.0/186.26 GiB objects (0.0/1.0 accelerator_type:V100)<br>Result logdir: /home/rd/ray_results/train_model_main_final_2022-11-30_14-38-18<br>Number of trials: 1/1 (1 TERMINATED)<br><table>\n",
       "<thead>\n",
       "<tr><th>Trial name                        </th><th>status    </th><th>loc              </th><th style=\"text-align: right;\">  eta</th><th style=\"text-align: right;\">  ga</th><th style=\"text-align: right;\">  lambda1</th><th style=\"text-align: right;\">  lambda2</th><th style=\"text-align: right;\">  lr</th><th style=\"text-align: right;\">  iter</th><th style=\"text-align: right;\">  total time (s)</th><th style=\"text-align: right;\">  my_test_sum_tGM</th></tr>\n",
       "</thead>\n",
       "<tbody>\n",
       "<tr><td>train_model_main_final_932c4_00000</td><td>TERMINATED</td><td>10.224.0.12:11329</td><td style=\"text-align: right;\">    0</td><td style=\"text-align: right;\"> 0.3</td><td style=\"text-align: right;\">     0.05</td><td style=\"text-align: right;\">    0.001</td><td style=\"text-align: right;\"> 0.7</td><td style=\"text-align: right;\">     1</td><td style=\"text-align: right;\">         8.78705</td><td style=\"text-align: right;\">         0.839547</td></tr>\n",
       "</tbody>\n",
       "</table><br><br>"
      ],
      "text/plain": [
       "<IPython.core.display.HTML object>"
      ]
     },
     "metadata": {},
     "output_type": "display_data"
    },
    {
     "name": "stderr",
     "output_type": "stream",
     "text": [
      "\u001b[2m\u001b[33m(raylet)\u001b[0m [2022-11-30 14:38:25,411 E 10376 10394] (raylet) file_system_monitor.cc:105: /tmp/ray/session_2022-11-30_14-38-03_471414_10262 is over 95% full, available space: 264216576; capacity: 29394726912. Object creation will fail if spilling is required.\n"
     ]
    },
    {
     "name": "stdout",
     "output_type": "stream",
     "text": [
      "Result for train_model_main_final_932c4_00000:\n",
      "  date: 2022-11-30_14-38-29\n",
      "  done: false\n",
      "  experiment_id: 997b237876f741a9a66df855c444068a\n",
      "  hostname: rd-PowerEdge-R940xa\n",
      "  iterations_since_restore: 1\n",
      "  my_test_sum_tGM: 0.8395465847128769\n",
      "  node_ip: 10.224.0.12\n",
      "  pid: 11329\n",
      "  time_since_restore: 8.787050724029541\n",
      "  time_this_iter_s: 8.787050724029541\n",
      "  time_total_s: 8.787050724029541\n",
      "  timestamp: 1669790309\n",
      "  timesteps_since_restore: 0\n",
      "  training_iteration: 1\n",
      "  trial_id: 932c4_00000\n",
      "  warmup_time: 0.0070650577545166016\n",
      "  \n",
      "Result for train_model_main_final_932c4_00000:\n",
      "  date: 2022-11-30_14-38-29\n",
      "  done: true\n",
      "  experiment_id: 997b237876f741a9a66df855c444068a\n",
      "  experiment_tag: 0_eta=0,ga=0.3000,lambda1=0.0500,lambda2=0.0010,lr=0.7000\n",
      "  hostname: rd-PowerEdge-R940xa\n",
      "  iterations_since_restore: 1\n",
      "  my_test_sum_tGM: 0.8395465847128769\n",
      "  node_ip: 10.224.0.12\n",
      "  pid: 11329\n",
      "  time_since_restore: 8.787050724029541\n",
      "  time_this_iter_s: 8.787050724029541\n",
      "  time_total_s: 8.787050724029541\n",
      "  timestamp: 1669790309\n",
      "  timesteps_since_restore: 0\n",
      "  training_iteration: 1\n",
      "  trial_id: 932c4_00000\n",
      "  warmup_time: 0.0070650577545166016\n",
      "  \n"
     ]
    },
    {
     "name": "stderr",
     "output_type": "stream",
     "text": [
      "2022-11-30 14:38:29,391\tINFO tune.py:758 -- Total run time: 11.31 seconds (11.17 seconds for the tuning loop).\n"
     ]
    },
    {
     "name": "stdout",
     "output_type": "stream",
     "text": [
      "0\n"
     ]
    },
    {
     "name": "stderr",
     "output_type": "stream",
     "text": [
      "\u001b[2m\u001b[33m(raylet)\u001b[0m [2022-11-30 14:38:35,420 E 10376 10394] (raylet) file_system_monitor.cc:105: /tmp/ray/session_2022-11-30_14-38-03_471414_10262 is over 95% full, available space: 263782400; capacity: 29394726912. Object creation will fail if spilling is required.\n",
      "\u001b[2m\u001b[33m(raylet)\u001b[0m [2022-11-30 14:38:45,428 E 10376 10394] (raylet) file_system_monitor.cc:105: /tmp/ray/session_2022-11-30_14-38-03_471414_10262 is over 95% full, available space: 263782400; capacity: 29394726912. Object creation will fail if spilling is required.\n",
      "\u001b[2m\u001b[33m(raylet)\u001b[0m [2022-11-30 14:38:55,438 E 10376 10394] (raylet) file_system_monitor.cc:105: /tmp/ray/session_2022-11-30_14-38-03_471414_10262 is over 95% full, available space: 263774208; capacity: 29394726912. Object creation will fail if spilling is required.\n",
      "\u001b[2m\u001b[33m(raylet)\u001b[0m [2022-11-30 14:39:05,456 E 10376 10394] (raylet) file_system_monitor.cc:105: /tmp/ray/session_2022-11-30_14-38-03_471414_10262 is over 95% full, available space: 263741440; capacity: 29394726912. Object creation will fail if spilling is required.\n",
      "\u001b[2m\u001b[33m(raylet)\u001b[0m [2022-11-30 14:39:15,466 E 10376 10394] (raylet) file_system_monitor.cc:105: /tmp/ray/session_2022-11-30_14-38-03_471414_10262 is over 95% full, available space: 263737344; capacity: 29394726912. Object creation will fail if spilling is required.\n",
      "\u001b[2m\u001b[33m(raylet)\u001b[0m [2022-11-30 14:39:25,475 E 10376 10394] (raylet) file_system_monitor.cc:105: /tmp/ray/session_2022-11-30_14-38-03_471414_10262 is over 95% full, available space: 263733248; capacity: 29394726912. Object creation will fail if spilling is required.\n",
      "\u001b[2m\u001b[33m(raylet)\u001b[0m [2022-11-30 14:39:35,485 E 10376 10394] (raylet) file_system_monitor.cc:105: /tmp/ray/session_2022-11-30_14-38-03_471414_10262 is over 95% full, available space: 263733248; capacity: 29394726912. Object creation will fail if spilling is required.\n",
      "\u001b[2m\u001b[33m(raylet)\u001b[0m [2022-11-30 14:39:45,494 E 10376 10394] (raylet) file_system_monitor.cc:105: /tmp/ray/session_2022-11-30_14-38-03_471414_10262 is over 95% full, available space: 263733248; capacity: 29394726912. Object creation will fail if spilling is required.\n",
      "\u001b[2m\u001b[33m(raylet)\u001b[0m [2022-11-30 14:39:55,502 E 10376 10394] (raylet) file_system_monitor.cc:105: /tmp/ray/session_2022-11-30_14-38-03_471414_10262 is over 95% full, available space: 263733248; capacity: 29394726912. Object creation will fail if spilling is required.\n",
      "\u001b[2m\u001b[33m(raylet)\u001b[0m [2022-11-30 14:40:05,511 E 10376 10394] (raylet) file_system_monitor.cc:105: /tmp/ray/session_2022-11-30_14-38-03_471414_10262 is over 95% full, available space: 263700480; capacity: 29394726912. Object creation will fail if spilling is required.\n",
      "\u001b[2m\u001b[33m(raylet)\u001b[0m [2022-11-30 14:40:15,519 E 10376 10394] (raylet) file_system_monitor.cc:105: /tmp/ray/session_2022-11-30_14-38-03_471414_10262 is over 95% full, available space: 263565312; capacity: 29394726912. Object creation will fail if spilling is required.\n",
      "\u001b[2m\u001b[33m(raylet)\u001b[0m [2022-11-30 14:40:25,529 E 10376 10394] (raylet) file_system_monitor.cc:105: /tmp/ray/session_2022-11-30_14-38-03_471414_10262 is over 95% full, available space: 263565312; capacity: 29394726912. Object creation will fail if spilling is required.\n",
      "\u001b[2m\u001b[33m(raylet)\u001b[0m [2022-11-30 14:40:35,538 E 10376 10394] (raylet) file_system_monitor.cc:105: /tmp/ray/session_2022-11-30_14-38-03_471414_10262 is over 95% full, available space: 263565312; capacity: 29394726912. Object creation will fail if spilling is required.\n",
      "\u001b[2m\u001b[33m(raylet)\u001b[0m [2022-11-30 14:40:45,549 E 10376 10394] (raylet) file_system_monitor.cc:105: /tmp/ray/session_2022-11-30_14-38-03_471414_10262 is over 95% full, available space: 263553024; capacity: 29394726912. Object creation will fail if spilling is required.\n",
      "\u001b[2m\u001b[33m(raylet)\u001b[0m [2022-11-30 14:40:55,558 E 10376 10394] (raylet) file_system_monitor.cc:105: /tmp/ray/session_2022-11-30_14-38-03_471414_10262 is over 95% full, available space: 263553024; capacity: 29394726912. Object creation will fail if spilling is required.\n",
      "\u001b[2m\u001b[33m(raylet)\u001b[0m [2022-11-30 14:41:05,568 E 10376 10394] (raylet) file_system_monitor.cc:105: /tmp/ray/session_2022-11-30_14-38-03_471414_10262 is over 95% full, available space: 263507968; capacity: 29394726912. Object creation will fail if spilling is required.\n",
      "\u001b[2m\u001b[33m(raylet)\u001b[0m [2022-11-30 14:41:15,577 E 10376 10394] (raylet) file_system_monitor.cc:105: /tmp/ray/session_2022-11-30_14-38-03_471414_10262 is over 95% full, available space: 263503872; capacity: 29394726912. Object creation will fail if spilling is required.\n",
      "\u001b[2m\u001b[33m(raylet)\u001b[0m [2022-11-30 14:41:25,587 E 10376 10394] (raylet) file_system_monitor.cc:105: /tmp/ray/session_2022-11-30_14-38-03_471414_10262 is over 95% full, available space: 263503872; capacity: 29394726912. Object creation will fail if spilling is required.\n",
      "\u001b[2m\u001b[33m(raylet)\u001b[0m [2022-11-30 14:41:35,597 E 10376 10394] (raylet) file_system_monitor.cc:105: /tmp/ray/session_2022-11-30_14-38-03_471414_10262 is over 95% full, available space: 263499776; capacity: 29394726912. Object creation will fail if spilling is required.\n",
      "\u001b[2m\u001b[33m(raylet)\u001b[0m [2022-11-30 14:41:45,606 E 10376 10394] (raylet) file_system_monitor.cc:105: /tmp/ray/session_2022-11-30_14-38-03_471414_10262 is over 95% full, available space: 263499776; capacity: 29394726912. Object creation will fail if spilling is required.\n",
      "\u001b[2m\u001b[33m(raylet)\u001b[0m [2022-11-30 14:41:55,615 E 10376 10394] (raylet) file_system_monitor.cc:105: /tmp/ray/session_2022-11-30_14-38-03_471414_10262 is over 95% full, available space: 263495680; capacity: 29394726912. Object creation will fail if spilling is required.\n",
      "\u001b[2m\u001b[33m(raylet)\u001b[0m [2022-11-30 14:42:05,626 E 10376 10394] (raylet) file_system_monitor.cc:105: /tmp/ray/session_2022-11-30_14-38-03_471414_10262 is over 95% full, available space: 263467008; capacity: 29394726912. Object creation will fail if spilling is required.\n",
      "\u001b[2m\u001b[33m(raylet)\u001b[0m [2022-11-30 14:42:15,636 E 10376 10394] (raylet) file_system_monitor.cc:105: /tmp/ray/session_2022-11-30_14-38-03_471414_10262 is over 95% full, available space: 263462912; capacity: 29394726912. Object creation will fail if spilling is required.\n",
      "\u001b[2m\u001b[33m(raylet)\u001b[0m [2022-11-30 14:42:25,644 E 10376 10394] (raylet) file_system_monitor.cc:105: /tmp/ray/session_2022-11-30_14-38-03_471414_10262 is over 95% full, available space: 263462912; capacity: 29394726912. Object creation will fail if spilling is required.\n",
      "\u001b[2m\u001b[33m(raylet)\u001b[0m [2022-11-30 14:42:35,654 E 10376 10394] (raylet) file_system_monitor.cc:105: /tmp/ray/session_2022-11-30_14-38-03_471414_10262 is over 95% full, available space: 263458816; capacity: 29394726912. Object creation will fail if spilling is required.\n",
      "\u001b[2m\u001b[33m(raylet)\u001b[0m [2022-11-30 14:42:45,663 E 10376 10394] (raylet) file_system_monitor.cc:105: /tmp/ray/session_2022-11-30_14-38-03_471414_10262 is over 95% full, available space: 263454720; capacity: 29394726912. Object creation will fail if spilling is required.\n",
      "\u001b[2m\u001b[33m(raylet)\u001b[0m [2022-11-30 14:42:55,673 E 10376 10394] (raylet) file_system_monitor.cc:105: /tmp/ray/session_2022-11-30_14-38-03_471414_10262 is over 95% full, available space: 263450624; capacity: 29394726912. Object creation will fail if spilling is required.\n",
      "\u001b[2m\u001b[33m(raylet)\u001b[0m [2022-11-30 14:43:05,682 E 10376 10394] (raylet) file_system_monitor.cc:105: /tmp/ray/session_2022-11-30_14-38-03_471414_10262 is over 95% full, available space: 263417856; capacity: 29394726912. Object creation will fail if spilling is required.\n",
      "\u001b[2m\u001b[33m(raylet)\u001b[0m [2022-11-30 14:43:15,691 E 10376 10394] (raylet) file_system_monitor.cc:105: /tmp/ray/session_2022-11-30_14-38-03_471414_10262 is over 95% full, available space: 263286784; capacity: 29394726912. Object creation will fail if spilling is required.\n",
      "\u001b[2m\u001b[33m(raylet)\u001b[0m [2022-11-30 14:43:25,701 E 10376 10394] (raylet) file_system_monitor.cc:105: /tmp/ray/session_2022-11-30_14-38-03_471414_10262 is over 95% full, available space: 263282688; capacity: 29394726912. Object creation will fail if spilling is required.\n",
      "\u001b[2m\u001b[33m(raylet)\u001b[0m [2022-11-30 14:43:35,711 E 10376 10394] (raylet) file_system_monitor.cc:105: /tmp/ray/session_2022-11-30_14-38-03_471414_10262 is over 95% full, available space: 263278592; capacity: 29394726912. Object creation will fail if spilling is required.\n"
     ]
    },
    {
     "name": "stderr",
     "output_type": "stream",
     "text": [
      "\u001b[2m\u001b[33m(raylet)\u001b[0m [2022-11-30 14:43:45,721 E 10376 10394] (raylet) file_system_monitor.cc:105: /tmp/ray/session_2022-11-30_14-38-03_471414_10262 is over 95% full, available space: 263274496; capacity: 29394726912. Object creation will fail if spilling is required.\n",
      "\u001b[2m\u001b[33m(raylet)\u001b[0m [2022-11-30 14:43:55,730 E 10376 10394] (raylet) file_system_monitor.cc:105: /tmp/ray/session_2022-11-30_14-38-03_471414_10262 is over 95% full, available space: 263274496; capacity: 29394726912. Object creation will fail if spilling is required.\n",
      "\u001b[2m\u001b[33m(raylet)\u001b[0m [2022-11-30 14:44:05,740 E 10376 10394] (raylet) file_system_monitor.cc:105: /tmp/ray/session_2022-11-30_14-38-03_471414_10262 is over 95% full, available space: 263249920; capacity: 29394726912. Object creation will fail if spilling is required.\n",
      "\u001b[2m\u001b[33m(raylet)\u001b[0m [2022-11-30 14:44:15,750 E 10376 10394] (raylet) file_system_monitor.cc:105: /tmp/ray/session_2022-11-30_14-38-03_471414_10262 is over 95% full, available space: 263241728; capacity: 29394726912. Object creation will fail if spilling is required.\n",
      "\u001b[2m\u001b[33m(raylet)\u001b[0m [2022-11-30 14:44:25,759 E 10376 10394] (raylet) file_system_monitor.cc:105: /tmp/ray/session_2022-11-30_14-38-03_471414_10262 is over 95% full, available space: 263237632; capacity: 29394726912. Object creation will fail if spilling is required.\n",
      "\u001b[2m\u001b[33m(raylet)\u001b[0m [2022-11-30 14:44:35,767 E 10376 10394] (raylet) file_system_monitor.cc:105: /tmp/ray/session_2022-11-30_14-38-03_471414_10262 is over 95% full, available space: 263237632; capacity: 29394726912. Object creation will fail if spilling is required.\n",
      "\u001b[2m\u001b[33m(raylet)\u001b[0m [2022-11-30 14:44:45,777 E 10376 10394] (raylet) file_system_monitor.cc:105: /tmp/ray/session_2022-11-30_14-38-03_471414_10262 is over 95% full, available space: 263233536; capacity: 29394726912. Object creation will fail if spilling is required.\n",
      "\u001b[2m\u001b[33m(raylet)\u001b[0m [2022-11-30 14:44:55,786 E 10376 10394] (raylet) file_system_monitor.cc:105: /tmp/ray/session_2022-11-30_14-38-03_471414_10262 is over 95% full, available space: 263229440; capacity: 29394726912. Object creation will fail if spilling is required.\n",
      "\u001b[2m\u001b[33m(raylet)\u001b[0m [2022-11-30 14:45:05,795 E 10376 10394] (raylet) file_system_monitor.cc:105: /tmp/ray/session_2022-11-30_14-38-03_471414_10262 is over 95% full, available space: 263192576; capacity: 29394726912. Object creation will fail if spilling is required.\n",
      "\u001b[2m\u001b[33m(raylet)\u001b[0m [2022-11-30 14:45:15,804 E 10376 10394] (raylet) file_system_monitor.cc:105: /tmp/ray/session_2022-11-30_14-38-03_471414_10262 is over 95% full, available space: 263172096; capacity: 29394726912. Object creation will fail if spilling is required.\n",
      "\u001b[2m\u001b[33m(raylet)\u001b[0m [2022-11-30 14:45:25,813 E 10376 10394] (raylet) file_system_monitor.cc:105: /tmp/ray/session_2022-11-30_14-38-03_471414_10262 is over 95% full, available space: 263172096; capacity: 29394726912. Object creation will fail if spilling is required.\n",
      "\u001b[2m\u001b[33m(raylet)\u001b[0m [2022-11-30 14:45:35,822 E 10376 10394] (raylet) file_system_monitor.cc:105: /tmp/ray/session_2022-11-30_14-38-03_471414_10262 is over 95% full, available space: 263180288; capacity: 29394726912. Object creation will fail if spilling is required.\n",
      "\u001b[2m\u001b[33m(raylet)\u001b[0m [2022-11-30 14:45:45,831 E 10376 10394] (raylet) file_system_monitor.cc:105: /tmp/ray/session_2022-11-30_14-38-03_471414_10262 is over 95% full, available space: 263180288; capacity: 29394726912. Object creation will fail if spilling is required.\n",
      "\u001b[2m\u001b[33m(raylet)\u001b[0m [2022-11-30 14:45:55,841 E 10376 10394] (raylet) file_system_monitor.cc:105: /tmp/ray/session_2022-11-30_14-38-03_471414_10262 is over 95% full, available space: 263180288; capacity: 29394726912. Object creation will fail if spilling is required.\n",
      "\u001b[2m\u001b[33m(raylet)\u001b[0m [2022-11-30 14:46:05,851 E 10376 10394] (raylet) file_system_monitor.cc:105: /tmp/ray/session_2022-11-30_14-38-03_471414_10262 is over 95% full, available space: 260087808; capacity: 29394726912. Object creation will fail if spilling is required.\n",
      "\u001b[2m\u001b[33m(raylet)\u001b[0m [2022-11-30 14:46:15,861 E 10376 10394] (raylet) file_system_monitor.cc:105: /tmp/ray/session_2022-11-30_14-38-03_471414_10262 is over 95% full, available space: 259989504; capacity: 29394726912. Object creation will fail if spilling is required.\n",
      "\u001b[2m\u001b[33m(raylet)\u001b[0m [2022-11-30 14:46:25,870 E 10376 10394] (raylet) file_system_monitor.cc:105: /tmp/ray/session_2022-11-30_14-38-03_471414_10262 is over 95% full, available space: 259989504; capacity: 29394726912. Object creation will fail if spilling is required.\n",
      "\u001b[2m\u001b[33m(raylet)\u001b[0m [2022-11-30 14:46:35,879 E 10376 10394] (raylet) file_system_monitor.cc:105: /tmp/ray/session_2022-11-30_14-38-03_471414_10262 is over 95% full, available space: 259989504; capacity: 29394726912. Object creation will fail if spilling is required.\n",
      "\u001b[2m\u001b[33m(raylet)\u001b[0m [2022-11-30 14:46:45,888 E 10376 10394] (raylet) file_system_monitor.cc:105: /tmp/ray/session_2022-11-30_14-38-03_471414_10262 is over 95% full, available space: 259985408; capacity: 29394726912. Object creation will fail if spilling is required.\n",
      "\u001b[2m\u001b[33m(raylet)\u001b[0m [2022-11-30 14:46:55,897 E 10376 10394] (raylet) file_system_monitor.cc:105: /tmp/ray/session_2022-11-30_14-38-03_471414_10262 is over 95% full, available space: 259985408; capacity: 29394726912. Object creation will fail if spilling is required.\n",
      "\u001b[2m\u001b[33m(raylet)\u001b[0m [2022-11-30 14:47:05,906 E 10376 10394] (raylet) file_system_monitor.cc:105: /tmp/ray/session_2022-11-30_14-38-03_471414_10262 is over 95% full, available space: 259960832; capacity: 29394726912. Object creation will fail if spilling is required.\n",
      "\u001b[2m\u001b[33m(raylet)\u001b[0m [2022-11-30 14:47:15,915 E 10376 10394] (raylet) file_system_monitor.cc:105: /tmp/ray/session_2022-11-30_14-38-03_471414_10262 is over 95% full, available space: 259915776; capacity: 29394726912. Object creation will fail if spilling is required.\n",
      "\u001b[2m\u001b[33m(raylet)\u001b[0m [2022-11-30 14:47:25,925 E 10376 10394] (raylet) file_system_monitor.cc:105: /tmp/ray/session_2022-11-30_14-38-03_471414_10262 is over 95% full, available space: 259911680; capacity: 29394726912. Object creation will fail if spilling is required.\n",
      "\u001b[2m\u001b[33m(raylet)\u001b[0m [2022-11-30 14:47:35,933 E 10376 10394] (raylet) file_system_monitor.cc:105: /tmp/ray/session_2022-11-30_14-38-03_471414_10262 is over 95% full, available space: 259911680; capacity: 29394726912. Object creation will fail if spilling is required.\n",
      "\u001b[2m\u001b[33m(raylet)\u001b[0m [2022-11-30 14:47:45,943 E 10376 10394] (raylet) file_system_monitor.cc:105: /tmp/ray/session_2022-11-30_14-38-03_471414_10262 is over 95% full, available space: 259899392; capacity: 29394726912. Object creation will fail if spilling is required.\n",
      "\u001b[2m\u001b[33m(raylet)\u001b[0m [2022-11-30 14:47:55,952 E 10376 10394] (raylet) file_system_monitor.cc:105: /tmp/ray/session_2022-11-30_14-38-03_471414_10262 is over 95% full, available space: 259899392; capacity: 29394726912. Object creation will fail if spilling is required.\n",
      "\u001b[2m\u001b[33m(raylet)\u001b[0m [2022-11-30 14:48:05,962 E 10376 10394] (raylet) file_system_monitor.cc:105: /tmp/ray/session_2022-11-30_14-38-03_471414_10262 is over 95% full, available space: 259866624; capacity: 29394726912. Object creation will fail if spilling is required.\n",
      "\u001b[2m\u001b[33m(raylet)\u001b[0m [2022-11-30 14:48:15,971 E 10376 10394] (raylet) file_system_monitor.cc:105: /tmp/ray/session_2022-11-30_14-38-03_471414_10262 is over 95% full, available space: 259858432; capacity: 29394726912. Object creation will fail if spilling is required.\n",
      "\u001b[2m\u001b[33m(raylet)\u001b[0m [2022-11-30 14:48:25,980 E 10376 10394] (raylet) file_system_monitor.cc:105: /tmp/ray/session_2022-11-30_14-38-03_471414_10262 is over 95% full, available space: 259858432; capacity: 29394726912. Object creation will fail if spilling is required.\n",
      "\u001b[2m\u001b[33m(raylet)\u001b[0m [2022-11-30 14:48:35,989 E 10376 10394] (raylet) file_system_monitor.cc:105: /tmp/ray/session_2022-11-30_14-38-03_471414_10262 is over 95% full, available space: 259858432; capacity: 29394726912. Object creation will fail if spilling is required.\n",
      "\u001b[2m\u001b[33m(raylet)\u001b[0m [2022-11-30 14:48:45,999 E 10376 10394] (raylet) file_system_monitor.cc:105: /tmp/ray/session_2022-11-30_14-38-03_471414_10262 is over 95% full, available space: 259850240; capacity: 29394726912. Object creation will fail if spilling is required.\n"
     ]
    },
    {
     "name": "stderr",
     "output_type": "stream",
     "text": [
      "\u001b[2m\u001b[33m(raylet)\u001b[0m [2022-11-30 14:48:56,009 E 10376 10394] (raylet) file_system_monitor.cc:105: /tmp/ray/session_2022-11-30_14-38-03_471414_10262 is over 95% full, available space: 259846144; capacity: 29394726912. Object creation will fail if spilling is required.\n",
      "\u001b[2m\u001b[33m(raylet)\u001b[0m [2022-11-30 14:49:06,018 E 10376 10394] (raylet) file_system_monitor.cc:105: /tmp/ray/session_2022-11-30_14-38-03_471414_10262 is over 95% full, available space: 259813376; capacity: 29394726912. Object creation will fail if spilling is required.\n",
      "\u001b[2m\u001b[33m(raylet)\u001b[0m [2022-11-30 14:49:16,028 E 10376 10394] (raylet) file_system_monitor.cc:105: /tmp/ray/session_2022-11-30_14-38-03_471414_10262 is over 95% full, available space: 259723264; capacity: 29394726912. Object creation will fail if spilling is required.\n"
     ]
    }
   ],
   "source": [
    "for i in range(1):\n",
    "    data_generation.setup_seed(i)\n",
    "    x1,y1=data_generation.generate_data_linear(corval,beta_1,n1,p)\n",
    "    x2,y2=data_generation.generate_data_linear(corval,beta_2,n2,p)\n",
    "    x3,y3=data_generation.generate_data_linear(corval,beta_3,n3,p)\n",
    "    \n",
    "    train_x1, test_x1, train_y1, test_y1= train_test_split(x1,y1, test_size=0.2, random_state=1)\n",
    "    train_x2, test_x2, train_y2, test_y2= train_test_split(x2,y2, test_size=0.2, random_state=1)\n",
    "    train_x3, test_x3, train_y3, test_y3= train_test_split(x3,y3, test_size=0.2, random_state=1)\n",
    "    \n",
    "     # switch training set\n",
    "    inputs_1,targets_1 = train_x1,train_y1\n",
    "    inputs_2,targets_2 = train_x2,train_y2\n",
    "    inputs_3,targets_3 = train_x3,train_y3\n",
    "\n",
    "    # switching testing set\n",
    "    test_inputs_1, test_targets_1 = test_x1,test_y1\n",
    "    test_inputs_2, test_targets_2 = test_x2,test_y2\n",
    "    test_inputs_3, test_targets_3 = test_x3,test_y3\n",
    "    \n",
    "################## first step######################################  \n",
    "    prior=[0,1,2,3,4]\n",
    "# choose lambda1,lambda2 by ray tune\n",
    "    config={\n",
    "            \"lr\":tune.choice([0.6,0.7,0.8]),\n",
    "            \"lambda1\": tune.choice([0.03,0.04,0.05]),\n",
    "            \"lambda2\": tune.choice([0.001,0.002,0.003]),\n",
    "            \"ga\":tune.choice([0.3,0.4,0.5]),\n",
    "            \"inputs_1\":train_x1,\n",
    "            \"inputs_2\":train_x2,\n",
    "            \"inputs_3\":train_x3,\n",
    "           \"targets_1\":train_y1,\n",
    "           \"targets_2\":train_y2,\n",
    "           \"targets_3\":train_y3,\n",
    "            \"prior\":prior\n",
    "        }\n",
    "\n",
    "    result = tune.run(\n",
    "            models.train_model_main_prior,\n",
    "            config=config,\n",
    "            num_samples=1)\n",
    "    \n",
    "################## second step########################################    \n",
    "\n",
    "    final_lambda=result.get_best_config('my_test_BCE_loss',mode='min')\n",
    "    y_prior_1,y_prior_2,y_prior_3=models.main_prior_model(final_lambda[\"lambda1\"],final_lambda[\"lambda2\"],final_lambda[\"lr\"],final_lambda[\"ga\"],\n",
    "                           inputs_1,inputs_2,inputs_3,targets_1,targets_2,targets_3,prior) \n",
    "    \n",
    "################## third step##################\n",
    "    no_prior=[]\n",
    "\n",
    "    config={\n",
    "                \"lambda1\": tune.choice([0.03,0.04,0.05]),\n",
    "                \"lambda2\": tune.choice([0.001,0.002,0.003]),\n",
    "                 \"lr\": tune.choice([0.7,0.8,0.9]),\n",
    "                \"eta\": tune.choice([0,0.1,0.2,0.3,0.4,0.5,0.6,0.7,0.8,0.9,1]),\n",
    "                 \"ga\":tune.choice([0.3]),\n",
    "                \"inputs_1\":train_x1,\n",
    "                \"inputs_2\":train_x2,\n",
    "                \"inputs_3\":train_x3,\n",
    "                \"train_y1\":train_y1,\n",
    "                \"train_y2\":train_y2,\n",
    "                \"train_y3\":train_y3,\n",
    "                \"y_prior_1\":y_prior_1,\n",
    "                \"y_prior_2\":y_prior_2,\n",
    "                \"y_prior_3\":y_prior_3,\n",
    "                \"prior\":no_prior\n",
    "            }\n",
    "\n",
    "    result = tune.run(\n",
    "            models.train_model_main_final,  \n",
    "            config=config,\n",
    "            num_samples=1)\n",
    "\n",
    "################## fourth step##################\n",
    "\n",
    "    #no prior\n",
    "    no_prior=[]\n",
    "    #0.4,0.4\n",
    "    # set hyperparamters\n",
    "    final_parameter=result.get_best_config('my_test_sum_tGM',mode='max')\n",
    "    prediction,target,model_1_weight,model_2_weight,model_3_weight=models.main_final_model(final_parameter[\"lambda1\"],final_parameter[\"lambda2\"],final_parameter[\"lr\"],final_parameter[\"ga\"],final_parameter[\"eta\"],\n",
    "                       inputs_1,inputs_2,inputs_3,train_y1,train_y2,train_y3,y_prior_1,y_prior_2,y_prior_3,\n",
    "                       test_inputs_1,test_inputs_2,test_inputs_3,test_targets_1,test_targets_2,test_targets_3,no_prior)\n",
    "    \n",
    "####################################   prediction ####################################      \n",
    "\n",
    "    final_matrix=confusion_matrix(target,prediction)\n",
    "    TPR=recall_score(target,prediction)#TPR\n",
    "    TNR=final_matrix[0,0]/(sum(final_matrix[0,:]))#TNR\n",
    "    GM = math.sqrt(TPR*TNR)\n",
    "    accuracy=accuracy_score(target,prediction)\n",
    "    precision=precision_score(target,prediction)\n",
    "    f1=f1_score(target,prediction)\n",
    "    \n",
    "    \n",
    "####################################   variable selection ####################################     \n",
    "    index,TP,FP,FN,TN=evaluation.variable_selection(0.12,model_1_weight,model_2_weight,model_3_weight,beta_1,p)\n",
    "\n",
    "    vsSEN=TP/(TP+FN)\n",
    "    vsSPE=(TN/(TN+FP))\n",
    "    vsGM=math.sqrt(vsSEN*vsSPE)\n",
    "    vsMR=(FP+FN)/(TP+FN+TN+FP)\n",
    "    vsCCR=1-vsMR\n",
    "    \n",
    "    vs[:,list(index)]+=1\n",
    "    \n",
    "    print(i)\n",
    "    \n",
    "    log_file_name = \"{}.csv\".format(\"PPIN\")\n",
    "    log_file_dir = \"./results/simulation/\"\n",
    "    log_file_path = os.path.join(log_file_dir, log_file_name)\n",
    "\n",
    "    with open(log_file_path, \"a\") as f:\n",
    "        logs= \"{},{},{},{},{},{},{},{},{},{},{},{},{}\\n\".format(corval, len(prior),vsGM,vsSEN,vsSPE,vsMR,vsCCR,GM,TPR,TNR,accuracy,precision,f1)\n",
    "        f.writelines(logs)\n",
    "    "
   ]
  },
  {
   "cell_type": "code",
   "execution_count": 31,
   "id": "f6ab277e",
   "metadata": {},
   "outputs": [
    {
     "name": "stderr",
     "output_type": "stream",
     "text": [
      "\u001b[2m\u001b[33m(raylet)\u001b[0m [2022-11-30 14:36:46,261 E 28499 28524] (raylet) file_system_monitor.cc:105: /tmp/ray/session_2022-11-30_13-56-31_505409_28385 is over 95% full, available space: 271077376; capacity: 29394726912. Object creation will fail if spilling is required.\n"
     ]
    }
   ],
   "source": [
    "vs[:,list(index)]+=1"
   ]
  },
  {
   "cell_type": "code",
   "execution_count": 32,
   "id": "4cb0595b",
   "metadata": {},
   "outputs": [
    {
     "data": {
      "text/plain": [
       "array([[1., 1., 1., 1., 1., 0., 1., 1., 1., 1., 0., 0., 0., 0., 0., 0.,\n",
       "        0., 0., 0., 0., 0., 0., 0., 0., 0., 0., 0., 0., 1., 0., 0., 0.,\n",
       "        0., 0., 0., 1., 0., 0., 0., 0., 0., 0., 0., 0., 0., 0., 0., 0.,\n",
       "        0., 0., 0., 0., 0., 0., 0., 0., 0., 0., 0., 0., 1., 0., 0., 0.,\n",
       "        0., 0., 0., 0., 0., 0., 0., 0., 0., 0., 0., 0., 0., 0., 0., 0.,\n",
       "        0., 0., 0., 0., 0., 0., 0., 0., 0., 0., 1., 0., 0., 0., 0., 0.,\n",
       "        0., 0., 0., 0.]])"
      ]
     },
     "execution_count": 32,
     "metadata": {},
     "output_type": "execute_result"
    }
   ],
   "source": [
    "vs"
   ]
  },
  {
   "cell_type": "code",
   "execution_count": null,
   "id": "50b85e7e",
   "metadata": {},
   "outputs": [],
   "source": []
  }
 ],
 "metadata": {
  "kernelspec": {
   "display_name": "Python 3 (ipykernel)",
   "language": "python",
   "name": "python3"
  },
  "language_info": {
   "codemirror_mode": {
    "name": "ipython",
    "version": 3
   },
   "file_extension": ".py",
   "mimetype": "text/x-python",
   "name": "python",
   "nbconvert_exporter": "python",
   "pygments_lexer": "ipython3",
   "version": "3.10.4"
  }
 },
 "nbformat": 4,
 "nbformat_minor": 5
}
